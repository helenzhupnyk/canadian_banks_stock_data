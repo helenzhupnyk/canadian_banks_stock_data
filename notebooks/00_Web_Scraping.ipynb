{
 "cells": [
  {
   "cell_type": "markdown",
   "id": "b706a8ab-d531-40cb-945d-3fdc2cbbbdb6",
   "metadata": {},
   "source": [
    "# Canadian Banks Stock Web Scraping from Yahoo Finance"
   ]
  },
  {
   "cell_type": "markdown",
   "id": "6bb5eb68-1f73-4d06-a247-cd36db371611",
   "metadata": {},
   "source": [
    "## 1. Introduction"
   ]
  },
  {
   "cell_type": "markdown",
   "id": "fc1ceb56-578b-415e-9ac9-080f8d2e3caf",
   "metadata": {
    "jp-MarkdownHeadingCollapsed": true,
    "tags": []
   },
   "source": [
    "The purpose of this project is to analyze the stock performance of Canada’s leading banks — **BMO, CIBC, TD, RBC, and Scotiabank** — over the past five years. Through this analysis, we aim to provide data-driven insights into market trends, investment risks, and stock relationships. The findings can support investors, analysts, and financial professionals in making informed decisions.\n",
    "\n",
    "### Objectives:\n",
    "- **[Stock Market Performance Analysis](#4-exploratory-data-analysis-eda)** – Evaluating stock trends and overall performance.\n",
    "- **[Volatility Assessment](#5-statistical-analysis--financial-metrics)** – Measuring price fluctuations to identify risk levels and market stability.\n",
    "- **[Stock Price Correlation](#5-statistical-analysis--financial-metrics)** – Examining relationships between different banks' stock prices.\n",
    "- **[Prediction Model Development](#5-statistical-analysis--financial-metrics)** – Building a predictive model to forecast stock trends and help investors determine which bank is more stable or offers better returns.\n",
    "\n",
    "We collect stock price data and financial statements from [Yahoo Finance](https://finance.yahoo.com/), process them using Python, store them in a PostgreSQL database, and visualize insights using Power BI."
   ]
  },
  {
   "cell_type": "markdown",
   "id": "864c10fd-7bd0-479e-bf20-8a5d9059c262",
   "metadata": {},
   "source": [
    "## 2. Data Collection\n",
    "\n",
    "### 2.1 Install and Import Libraries"
   ]
  },
  {
   "cell_type": "code",
   "execution_count": 1,
   "id": "f778d172-01cb-424e-baf1-e4a261e92433",
   "metadata": {
    "tags": []
   },
   "outputs": [],
   "source": [
    "%%capture\n",
    "!pip install yfinance\n",
    "!pip install yahooquery\n",
    "%pip install matplotlib\n",
    "!pip install seaborn"
   ]
  },
  {
   "cell_type": "code",
   "execution_count": 2,
   "id": "bf7acf2b-5966-416d-8612-8f679f8078f9",
   "metadata": {
    "tags": []
   },
   "outputs": [],
   "source": [
    "import yfinance as yf\n",
    "from yahooquery import Ticker\n",
    "import pandas as pd\n",
    "import numpy as np\n",
    "import matplotlib.pyplot as plt\n",
    "import seaborn as sns\n",
    "import datetime"
   ]
  },
  {
   "cell_type": "code",
   "execution_count": 3,
   "id": "49055e7b-ccd0-43a3-8b87-ba921d5aae73",
   "metadata": {
    "tags": []
   },
   "outputs": [],
   "source": [
    "import warnings\n",
    "# Ignore all warnings\n",
    "warnings.filterwarnings(\"ignore\", category=FutureWarning)"
   ]
  },
  {
   "cell_type": "markdown",
   "id": "07bc4a21-b831-495e-863b-42cc552582e2",
   "metadata": {},
   "source": [
    "### 2.2 Scrape Data for Selected Banks"
   ]
  },
  {
   "cell_type": "markdown",
   "id": "46a22f43-bc2c-45b8-ba5b-04fed7cf9b5f",
   "metadata": {},
   "source": [
    "#### Scrape Historical stock prices"
   ]
  },
  {
   "cell_type": "code",
   "execution_count": 4,
   "id": "587755c1-ba65-47c5-a7ed-1ef4a99d6bf1",
   "metadata": {
    "tags": []
   },
   "outputs": [],
   "source": [
    "# Step 1: Define the tickers for Canadian banks\n",
    "bank_tickers = {\n",
    "    \"TD\": \"TD.TO\",\n",
    "    \"BMO\": \"BMO.TO\",\n",
    "    \"RBC\": \"RY.TO\",\n",
    "    \"CIBC\": \"CM.TO\",\n",
    "    \"Scotiabank\": \"BNS.TO\"\n",
    "}"
   ]
  },
  {
   "cell_type": "code",
   "execution_count": 35,
   "id": "e586ce12-9fe5-4166-94e7-60bafaddcb71",
   "metadata": {
    "tags": []
   },
   "outputs": [
    {
     "name": "stderr",
     "output_type": "stream",
     "text": [
      "[*********************100%***********************]  1 of 1 completed\n",
      "[*********************100%***********************]  1 of 1 completed\n",
      "[*********************100%***********************]  1 of 1 completed\n",
      "[*********************100%***********************]  1 of 1 completed\n",
      "[*********************100%***********************]  1 of 1 completed"
     ]
    },
    {
     "name": "stdout",
     "output_type": "stream",
     "text": [
      "Downloading historical data for TD (TD.TO)...\n",
      "Downloading historical data for BMO (BMO.TO)...\n",
      "Downloading historical data for RBC (RY.TO)...\n",
      "Downloading historical data for CIBC (CM.TO)...\n",
      "Downloading historical data for Scotiabank (BNS.TO)...\n"
     ]
    },
    {
     "name": "stderr",
     "output_type": "stream",
     "text": [
      "\n"
     ]
    }
   ],
   "source": [
    "# Step 2: Download historical stock prices\n",
    "historical_data = {}\n",
    "for bank, ticker in bank_tickers.items():\n",
    "    print(f\"Downloading historical data for {bank} ({ticker})...\")\n",
    "    historical_data[bank] = yf.download(ticker, start=\"2020-01-01\", end=\"2025-01-01\")"
   ]
  },
  {
   "cell_type": "code",
   "execution_count": 36,
   "id": "09e26126-5304-406d-9e90-5b04c3e2c3f7",
   "metadata": {
    "tags": []
   },
   "outputs": [
    {
     "name": "stdout",
     "output_type": "stream",
     "text": [
      "Saved historical data for TD to TD_historical_data.csv\n",
      "Saved historical data for BMO to BMO_historical_data.csv\n",
      "Saved historical data for RBC to RBC_historical_data.csv\n",
      "Saved historical data for CIBC to CIBC_historical_data.csv\n",
      "Saved historical data for Scotiabank to Scotiabank_historical_data.csv\n"
     ]
    }
   ],
   "source": [
    "# Step 3: Save historical data to CSV\n",
    "for bank, data in historical_data.items():\n",
    "    data.to_csv(f\"{bank}_historical_data.csv\")\n",
    "    print(f\"Saved historical data for {bank} to {bank}_historical_data.csv\")"
   ]
  },
  {
   "cell_type": "code",
   "execution_count": 37,
   "id": "4f2c03ca-e6e5-46b0-a4d0-6c919332310b",
   "metadata": {
    "tags": []
   },
   "outputs": [
    {
     "name": "stdout",
     "output_type": "stream",
     "text": [
      "Fetching financial data for TD (TD.TO)...\n",
      "Fetching financial data for BMO (BMO.TO)...\n",
      "Fetching financial data for RBC (RY.TO)...\n",
      "Fetching financial data for CIBC (CM.TO)...\n",
      "Fetching financial data for Scotiabank (BNS.TO)...\n"
     ]
    }
   ],
   "source": [
    "# Step 4: Fetch financial data (e.g., market cap, PE ratio, dividend yield)\n",
    "financial_data = {}\n",
    "for bank, ticker in bank_tickers.items():\n",
    "    print(f\"Fetching financial data for {bank} ({ticker})...\")\n",
    "    stock = yf.Ticker(ticker)\n",
    "    financial_data[bank] = {\n",
    "        \"Market Cap\": stock.info.get(\"marketCap\"),\n",
    "        \"PE Ratio\": stock.info.get(\"trailingPE\"),\n",
    "        \"Dividend Yield\": stock.info.get(\"dividendYield\"),\n",
    "        \"Beta\": stock.info.get(\"beta\"),\n",
    "    }"
   ]
  },
  {
   "cell_type": "code",
   "execution_count": 38,
   "id": "3ce3bb8e-b67b-4292-b6b0-7a38b8f74ea4",
   "metadata": {
    "tags": []
   },
   "outputs": [
    {
     "name": "stdout",
     "output_type": "stream",
     "text": [
      "Saved financial data to financial_data.csv\n"
     ]
    }
   ],
   "source": [
    "# Step 5: Save financial data to CSV\n",
    "financial_df = pd.DataFrame(financial_data).transpose()\n",
    "financial_df.to_csv(\"financial_data.csv\")\n",
    "print(\"Saved financial data to financial_data.csv\")"
   ]
  },
  {
   "cell_type": "code",
   "execution_count": 39,
   "id": "b75edf63-1763-4135-92da-c611105ad2fd",
   "metadata": {
    "tags": []
   },
   "outputs": [
    {
     "name": "stdout",
     "output_type": "stream",
     "text": [
      "Sample historical data for TD:\n",
      "Price           Close       High        Low       Open   Volume\n",
      "Ticker          TD.TO      TD.TO      TD.TO      TD.TO    TD.TO\n",
      "Date                                                           \n",
      "2020-01-02  57.946808  57.994167  57.560077  57.781066  2207900\n",
      "2020-01-03  57.899429  57.946782  57.544269  57.678440  3472900\n",
      "2020-01-06  57.907352  57.986276  57.583757  57.615327  8359000\n",
      "2020-01-07  57.844193  58.175676  57.788945  58.017829  3622600\n",
      "2020-01-08  58.294071  58.562414  57.796845  57.867875  6465500\n"
     ]
    }
   ],
   "source": [
    "# Step 6: Preview the saved data\n",
    "print(\"Sample historical data for TD:\")\n",
    "print(historical_data[\"TD\"].head())"
   ]
  },
  {
   "cell_type": "code",
   "execution_count": 40,
   "id": "7732fd33-a51b-4cb8-a3e3-ab99f90908c6",
   "metadata": {
    "tags": []
   },
   "outputs": [
    {
     "name": "stdout",
     "output_type": "stream",
     "text": [
      "\n",
      "Financial data:\n",
      "              Market Cap   PE Ratio  Dividend Yield   Beta\n",
      "TD          1.435082e+11  17.372883          0.0512  0.822\n",
      "BMO         1.018065e+11  14.665615          0.0462  1.160\n",
      "RBC         2.403518e+11  15.391304          0.0323  0.842\n",
      "CIBC        8.322114e+10  12.130494          0.0402  1.128\n",
      "Scotiabank  9.780933e+10  12.243612          0.0531  0.978\n"
     ]
    }
   ],
   "source": [
    "print(\"\\nFinancial data:\")\n",
    "print(financial_df)"
   ]
  },
  {
   "cell_type": "markdown",
   "id": "4f9a7445-8d9c-447d-8741-0c9e2581735c",
   "metadata": {},
   "source": [
    "#### Scrape financial data for each bank"
   ]
  },
  {
   "cell_type": "code",
   "execution_count": 41,
   "id": "ccf70741-de1d-4516-ad96-a07f8cacc56e",
   "metadata": {},
   "outputs": [],
   "source": [
    "# Function to scrape financial data for each bank\n",
    "def scrape_financial_data():\n",
    "    for bank, ticker in bank_tickers.items():\n",
    "        print(f\"Scraping financial data for {bank} ({ticker})...\")\n",
    "\n",
    "        # Create Ticker object\n",
    "        stock = Ticker(ticker)\n",
    "\n",
    "        # Get financial data\n",
    "        income_statement = stock.income_statement()\n",
    "        balance_sheet = stock.balance_sheet()\n",
    "        cash_flow = stock.cash_flow()\n",
    "\n",
    "        # Fetch dividends using the history method\n",
    "        dividends = stock.history(period=\"max\")  # Get full historical data\n",
    "        dividends = dividends[dividends.index.get_level_values(\"symbol\") == ticker]  # Filter for current ticker\n",
    "        dividends = dividends[[\"dividends\"]]  # Select only dividends column\n",
    "\n",
    "        # Convert to DataFrame and save as CSV\n",
    "        pd.DataFrame(income_statement).to_csv(f\"{bank}_income_statement.csv\", index=False)\n",
    "        pd.DataFrame(balance_sheet).to_csv(f\"{bank}_balance_sheet.csv\", index=False)\n",
    "        pd.DataFrame(cash_flow).to_csv(f\"{bank}_cash_flow.csv\", index=False)\n",
    "        \n",
    "        if not dividends.empty:\n",
    "            dividends.to_csv(f\"{bank}_dividends.csv\")\n",
    "\n",
    "        print(f\"Data saved for {bank} ✅\")"
   ]
  },
  {
   "cell_type": "code",
   "execution_count": 42,
   "id": "23f131e4-338d-4317-9df8-f6a89cea5f51",
   "metadata": {},
   "outputs": [
    {
     "name": "stdout",
     "output_type": "stream",
     "text": [
      "Scraping financial data for TD (TD.TO)...\n",
      "Data saved for TD ✅\n",
      "Scraping financial data for BMO (BMO.TO)...\n",
      "Data saved for BMO ✅\n",
      "Scraping financial data for RBC (RY.TO)...\n",
      "Data saved for RBC ✅\n",
      "Scraping financial data for CIBC (CM.TO)...\n",
      "Data saved for CIBC ✅\n",
      "Scraping financial data for Scotiabank (BNS.TO)...\n",
      "Data saved for Scotiabank ✅\n"
     ]
    }
   ],
   "source": [
    "# Run the scraper\n",
    "scrape_financial_data()"
   ]
  }
 ],
 "metadata": {
  "kernelspec": {
   "display_name": "Python 3 (ipykernel)",
   "language": "python",
   "name": "python3"
  },
  "language_info": {
   "codemirror_mode": {
    "name": "ipython",
    "version": 3
   },
   "file_extension": ".py",
   "mimetype": "text/x-python",
   "name": "python",
   "nbconvert_exporter": "python",
   "pygments_lexer": "ipython3",
   "version": "3.11.5"
  }
 },
 "nbformat": 4,
 "nbformat_minor": 5
}
