{
 "cells": [
  {
   "cell_type": "markdown",
   "id": "c6e3de50-569d-4e2a-891b-613151f44d0e",
   "metadata": {},
   "source": [
    "# Set Up Database Connection"
   ]
  },
  {
   "cell_type": "code",
   "execution_count": 7,
   "id": "016da04b-0229-4b39-aa3b-8663d9eb7bea",
   "metadata": {},
   "outputs": [
    {
     "name": "stdout",
     "output_type": "stream",
     "text": [
      "Requirement already satisfied: python-dotenv in c:\\python311\\lib\\site-packages (1.0.1)\n"
     ]
    },
    {
     "name": "stderr",
     "output_type": "stream",
     "text": [
      "WARNING: Ignoring invalid distribution ~ (C:\\Python311\\Lib\\site-packages)\n",
      "WARNING: Ignoring invalid distribution ~ip (C:\\Python311\\Lib\\site-packages)\n",
      "WARNING: Ignoring invalid distribution ~ (C:\\Python311\\Lib\\site-packages)\n",
      "WARNING: Ignoring invalid distribution ~ip (C:\\Python311\\Lib\\site-packages)\n",
      "WARNING: Ignoring invalid distribution ~ (C:\\Python311\\Lib\\site-packages)\n",
      "WARNING: Ignoring invalid distribution ~ip (C:\\Python311\\Lib\\site-packages)\n"
     ]
    }
   ],
   "source": [
    "!pip install python-dotenv"
   ]
  },
  {
   "cell_type": "code",
   "execution_count": 8,
   "id": "1442e1d4-2450-4bcb-b5dd-4331480de00a",
   "metadata": {
    "tags": []
   },
   "outputs": [
    {
     "name": "stdout",
     "output_type": "stream",
     "text": [
      "Connected to database: stock at 10.243.191.45\n"
     ]
    }
   ],
   "source": [
    "import os\n",
    "import psycopg2\n",
    "from dotenv import load_dotenv\n",
    "# Load environment variables from .env file\n",
    "load_dotenv()\n",
    "\n",
    "# Get credentials from environment variables\n",
    "DB_NAME = os.getenv(\"DB_NAME\")\n",
    "DB_USER = os.getenv(\"DB_USER\")\n",
    "DB_PASSWORD = os.getenv(\"DB_PASSWORD\")\n",
    "DB_HOST = os.getenv(\"DB_HOST\")\n",
    "DB_PORT = os.getenv(\"DB_PORT\")\n",
    "\n",
    "# Print to verify (remove in production)\n",
    "print(f\"Connected to database: {DB_NAME} at {DB_HOST}\")\n",
    "\n",
    "# Connect to the database\n",
    "conn = psycopg2.connect(\n",
    "    dbname=DB_NAME,\n",
    "    user=DB_USER,\n",
    "    password=DB_PASSWORD,\n",
    "    host=DB_HOST,\n",
    "    port=DB_PORT\n",
    ")"
   ]
  },
  {
   "cell_type": "markdown",
   "id": "e648f89d-edb6-4ab5-8df7-eb8fa529346f",
   "metadata": {},
   "source": [
    "## Inserting data row-by-row into PostgreSQL database"
   ]
  },
  {
   "cell_type": "markdown",
   "id": "31bcbcbe-4026-4111-8663-67ce4980cf05",
   "metadata": {},
   "source": [
    "*Bank tickers for TD, Scotiabank, and RBC - added by Mariia-Olena Zhupnyk and CIBC, BMO - added by Mariia Shekhovtsova*"
   ]
  },
  {
   "cell_type": "code",
   "execution_count": 25,
   "id": "8378d5f1-0bf5-4aaa-b637-bd8b746121af",
   "metadata": {},
   "outputs": [],
   "source": [
    "%%capture\n",
    "! pip install psycopg2 pandas"
   ]
  },
  {
   "cell_type": "code",
   "execution_count": 22,
   "id": "bdd4422b-fbda-4707-aae8-6bec6e5d266a",
   "metadata": {},
   "outputs": [],
   "source": [
    "import os\n",
    "import pandas as pd\n",
    "import psycopg2"
   ]
  },
  {
   "cell_type": "code",
   "execution_count": 24,
   "id": "0f01eed3-ffa0-4a34-946f-87a52a137773",
   "metadata": {},
   "outputs": [
    {
     "name": "stdout",
     "output_type": "stream",
     "text": [
      "✅ Data inserted successfully for TD (TD.TO)\n",
      "✅ Data inserted successfully for Scotiabank (BNS.TO)\n",
      "✅ Data inserted successfully for RBC (RY.TO)\n"
     ]
    }
   ],
   "source": [
    "# Folder containing historical data CSV files\n",
    "csv_folder = \"D:\\\\CANADIAN_BANKS_STOCK_DATA\"\n",
    "\n",
    "# Bank tickers for TD, Scotiabank, and RBC\n",
    "bank_tickers = {\n",
    "    \"TD\": \"TD.TO\",\n",
    "    \"Scotiabank\": \"BNS.TO\",\n",
    "    \"RBC\": \"RY.TO\"\n",
    "}\n",
    "\n",
    "try:\n",
    "    # Connect to PostgreSQL\n",
    "    conn = psycopg2.connect(\n",
    "        dbname=DB_NAME,\n",
    "        user=DB_USER,\n",
    "        password=DB_PASSWORD,\n",
    "        host=DB_HOST,\n",
    "        port=DB_PORT\n",
    "    )\n",
    "    cursor = conn.cursor()\n",
    "\n",
    "    # SQL Query to Insert Data\n",
    "    insert_query = \"\"\"\n",
    "    INSERT INTO stock_prices (stock_ticker, date, open_price, high_price, low_price, close_price, volume)\n",
    "    VALUES (%s, %s, %s, %s, %s, %s, %s)\n",
    "    \"\"\"\n",
    "\n",
    "    # Process only historical data for TD, Scotiabank, and RBC\n",
    "    for bank, ticker in bank_tickers.items():\n",
    "        file_path = os.path.join(csv_folder, f\"{bank}_historical_data.csv\")\n",
    "\n",
    "        if os.path.exists(file_path):  # Check if file exists\n",
    "            df = pd.read_csv(file_path, skiprows=2)  # Skip first 2 rows\n",
    "\n",
    "            # Rename columns to match database schema\n",
    "            df.columns = [\"date\", \"close_price\", \"high_price\", \"low_price\", \"open_price\", \"volume\"]\n",
    "\n",
    "            # Insert data row by row (without data type conversion)\n",
    "            for _, row in df.iterrows():\n",
    "                cursor.execute(insert_query, (ticker, row[\"date\"], row[\"open_price\"], row[\"high_price\"],\n",
    "                                              row[\"low_price\"], row[\"close_price\"], row[\"volume\"]))\n",
    "\n",
    "            conn.commit()\n",
    "            print(f\"✅ Data inserted successfully for {bank} ({ticker})\")\n",
    "\n",
    "    # Close database connection\n",
    "    cursor.close()\n",
    "    conn.close()\n",
    "\n",
    "except Exception as e:\n",
    "    print(\"❌ Error inserting data:\", e)"
   ]
  }
 ],
 "metadata": {
  "kernelspec": {
   "display_name": "Python 3 (ipykernel)",
   "language": "python",
   "name": "python3"
  },
  "language_info": {
   "codemirror_mode": {
    "name": "ipython",
    "version": 3
   },
   "file_extension": ".py",
   "mimetype": "text/x-python",
   "name": "python",
   "nbconvert_exporter": "python",
   "pygments_lexer": "ipython3",
   "version": "3.11.5"
  }
 },
 "nbformat": 4,
 "nbformat_minor": 5
}
