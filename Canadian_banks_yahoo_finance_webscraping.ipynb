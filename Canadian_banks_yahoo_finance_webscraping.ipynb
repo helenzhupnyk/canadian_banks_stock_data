{
 "cells": [
  {
   "cell_type": "markdown",
   "id": "efec11d1-b96f-4c40-be2c-4c39d056055f",
   "metadata": {},
   "source": [
    "# Canadian Banks Stock Data Analysis\n",
    "### Authors: Mariia-Olena Zhupnyk & Mariia Shekhovtsova"
   ]
  },
  {
   "cell_type": "markdown",
   "id": "a1bc54b2-6931-41db-b421-73d9181f3c32",
   "metadata": {},
   "source": [
    "## Table of Contents\n",
    "1. [Introduction](#1-introduction)\n",
    "2. [Data Collection](#2-data-collection)\n",
    "   - [Install and Import Libraries](#21-import-libraries)\n",
    "   - [Scrape Data for Selected Banks](#23-scrape-data-for-selected-banks)\n",
    "3. [Data Preprocessing & Cleaning](#3-data-preprocessing--cleaning)\n",
    "4. [Exploratory Data Analysis (EDA)](#4-exploratory-data-analysis-eda)\n",
    "5. [Statistical Analysis & Financial Metrics](#5-statistical-analysis--financial-metrics)\n",
    "6. [Power BI Dashboard](#6-power-bi-dashboard)\n",
    "7. [Conclusion & Insights](#7-conclusion--insights)"
   ]
  },
  {
   "cell_type": "markdown",
   "id": "35e5b447-8636-4b31-9bcd-c8829765f245",
   "metadata": {},
   "source": [
    "## 1. Introduction"
   ]
  },
  {
   "cell_type": "markdown",
   "id": "3ca86ddc-d259-4919-bb26-cd1dc41836de",
   "metadata": {},
   "source": [
    "The purpose of this project is to analyze the stock performance of Canada’s leading banks — **BMO, CIBC, TD, RBC, and Scotiabank** — over the past five years. Through this analysis, we aim to provide data-driven insights into market trends, investment risks, and stock relationships. The findings can support investors, analysts, and financial professionals in making informed decisions.\n",
    "\n",
    "### Objectives:\n",
    "- **[Stock Market Performance Analysis](#4-exploratory-data-analysis-eda)** – Evaluating stock trends and overall performance.\n",
    "- **[Volatility Assessment](#5-statistical-analysis--financial-metrics)** – Measuring price fluctuations to identify risk levels and market stability.\n",
    "- **[Stock Price Correlation](#5-statistical-analysis--financial-metrics)** – Examining relationships between different banks' stock prices.\n",
    "- **[Prediction Model Development](#5-statistical-analysis--financial-metrics)** – Building a predictive model to forecast stock trends and help investors determine which bank is more stable or offers better returns.\n",
    "\n",
    "We collect stock price data and financial statements from [Yahoo Finance](https://finance.yahoo.com/), process them using Python, store them in a PostgreSQL database, and visualize insights using Power BI."
   ]
  },
  {
   "cell_type": "markdown",
   "id": "7639006d-2e70-4f6f-93d1-119c68e6f061",
   "metadata": {},
   "source": [
    "## 2. Data Collection\n",
    "\n",
    "### 2.1 Install and Import Libraries"
   ]
  },
  {
   "cell_type": "code",
   "execution_count": 1,
   "id": "a73f9124-364d-42c1-9b4e-77e61def0e8a",
   "metadata": {
    "tags": []
   },
   "outputs": [],
   "source": [
    "%%capture\n",
    "!pip install yfinance\n",
    "!pip install yahooquery\n",
    "%pip install matplotlib\n",
    "!pip install seaborn"
   ]
  },
  {
   "cell_type": "code",
   "execution_count": 2,
   "id": "9cbe2066-f0b3-4e69-8995-64c241b54a79",
   "metadata": {
    "tags": []
   },
   "outputs": [],
   "source": [
    "import yfinance as yf\n",
    "from yahooquery import Ticker\n",
    "import pandas as pd\n",
    "import numpy as np\n",
    "import matplotlib.pyplot as plt\n",
    "import seaborn as sns\n",
    "import datetime"
   ]
  },
  {
   "cell_type": "code",
   "execution_count": 3,
   "id": "23253268-4758-4cb7-bfe0-256237851ebd",
   "metadata": {
    "tags": []
   },
   "outputs": [],
   "source": [
    "import warnings\n",
    "# Ignore all warnings\n",
    "warnings.filterwarnings(\"ignore\", category=FutureWarning)"
   ]
  },
  {
   "cell_type": "markdown",
   "id": "32a649aa-3998-4340-9f5a-6cc6bbca40fb",
   "metadata": {},
   "source": [
    "### 2.2 Scrape Data for Selected Banks"
   ]
  },
  {
   "cell_type": "markdown",
   "id": "53dfc5ac-678c-47b2-8487-e9e1a484ef47",
   "metadata": {},
   "source": [
    "#### Scrape Historical stock prices"
   ]
  },
  {
   "cell_type": "code",
   "execution_count": 4,
   "id": "9a6da134-53be-40d7-831d-172333847512",
   "metadata": {
    "tags": []
   },
   "outputs": [],
   "source": [
    "# Step 1: Define the tickers for Canadian banks\n",
    "bank_tickers = {\n",
    "    \"TD\": \"TD.TO\",\n",
    "    \"BMO\": \"BMO.TO\",\n",
    "    \"RBC\": \"RY.TO\",\n",
    "    \"CIBC\": \"CM.TO\",\n",
    "    \"Scotiabank\": \"BNS.TO\"\n",
    "}"
   ]
  },
  {
   "cell_type": "code",
   "execution_count": 35,
   "id": "13a3920e-8124-474d-9950-6baafcc9249e",
   "metadata": {
    "tags": []
   },
   "outputs": [
    {
     "name": "stderr",
     "output_type": "stream",
     "text": [
      "[*********************100%***********************]  1 of 1 completed\n",
      "[*********************100%***********************]  1 of 1 completed\n",
      "[*********************100%***********************]  1 of 1 completed\n",
      "[*********************100%***********************]  1 of 1 completed\n",
      "[*********************100%***********************]  1 of 1 completed"
     ]
    },
    {
     "name": "stdout",
     "output_type": "stream",
     "text": [
      "Downloading historical data for TD (TD.TO)...\n",
      "Downloading historical data for BMO (BMO.TO)...\n",
      "Downloading historical data for RBC (RY.TO)...\n",
      "Downloading historical data for CIBC (CM.TO)...\n",
      "Downloading historical data for Scotiabank (BNS.TO)...\n"
     ]
    },
    {
     "name": "stderr",
     "output_type": "stream",
     "text": [
      "\n"
     ]
    }
   ],
   "source": [
    "# Step 2: Download historical stock prices\n",
    "historical_data = {}\n",
    "for bank, ticker in bank_tickers.items():\n",
    "    print(f\"Downloading historical data for {bank} ({ticker})...\")\n",
    "    historical_data[bank] = yf.download(ticker, start=\"2020-01-01\", end=\"2025-01-01\")"
   ]
  },
  {
   "cell_type": "code",
   "execution_count": 36,
   "id": "26bb31a8-090b-4d87-814c-5cb968569cc7",
   "metadata": {
    "tags": []
   },
   "outputs": [
    {
     "name": "stdout",
     "output_type": "stream",
     "text": [
      "Saved historical data for TD to TD_historical_data.csv\n",
      "Saved historical data for BMO to BMO_historical_data.csv\n",
      "Saved historical data for RBC to RBC_historical_data.csv\n",
      "Saved historical data for CIBC to CIBC_historical_data.csv\n",
      "Saved historical data for Scotiabank to Scotiabank_historical_data.csv\n"
     ]
    }
   ],
   "source": [
    "# Step 3: Save historical data to CSV\n",
    "for bank, data in historical_data.items():\n",
    "    data.to_csv(f\"{bank}_historical_data.csv\")\n",
    "    print(f\"Saved historical data for {bank} to {bank}_historical_data.csv\")"
   ]
  },
  {
   "cell_type": "code",
   "execution_count": 37,
   "id": "d4727f9e-a201-4eff-b875-5cf70d87c5b3",
   "metadata": {
    "tags": []
   },
   "outputs": [
    {
     "name": "stdout",
     "output_type": "stream",
     "text": [
      "Fetching financial data for TD (TD.TO)...\n",
      "Fetching financial data for BMO (BMO.TO)...\n",
      "Fetching financial data for RBC (RY.TO)...\n",
      "Fetching financial data for CIBC (CM.TO)...\n",
      "Fetching financial data for Scotiabank (BNS.TO)...\n"
     ]
    }
   ],
   "source": [
    "# Step 4: Fetch financial data (e.g., market cap, PE ratio, dividend yield)\n",
    "financial_data = {}\n",
    "for bank, ticker in bank_tickers.items():\n",
    "    print(f\"Fetching financial data for {bank} ({ticker})...\")\n",
    "    stock = yf.Ticker(ticker)\n",
    "    financial_data[bank] = {\n",
    "        \"Market Cap\": stock.info.get(\"marketCap\"),\n",
    "        \"PE Ratio\": stock.info.get(\"trailingPE\"),\n",
    "        \"Dividend Yield\": stock.info.get(\"dividendYield\"),\n",
    "        \"Beta\": stock.info.get(\"beta\"),\n",
    "    }"
   ]
  },
  {
   "cell_type": "code",
   "execution_count": 38,
   "id": "cdba6ae9-680d-4f97-a556-cbb0e76e28fa",
   "metadata": {
    "tags": []
   },
   "outputs": [
    {
     "name": "stdout",
     "output_type": "stream",
     "text": [
      "Saved financial data to financial_data.csv\n"
     ]
    }
   ],
   "source": [
    "# Step 5: Save financial data to CSV\n",
    "financial_df = pd.DataFrame(financial_data).transpose()\n",
    "financial_df.to_csv(\"financial_data.csv\")\n",
    "print(\"Saved financial data to financial_data.csv\")"
   ]
  },
  {
   "cell_type": "code",
   "execution_count": 39,
   "id": "f58ab85e-e670-470f-8156-1afee9078b45",
   "metadata": {
    "tags": []
   },
   "outputs": [
    {
     "name": "stdout",
     "output_type": "stream",
     "text": [
      "Sample historical data for TD:\n",
      "Price           Close       High        Low       Open   Volume\n",
      "Ticker          TD.TO      TD.TO      TD.TO      TD.TO    TD.TO\n",
      "Date                                                           \n",
      "2020-01-02  57.946808  57.994167  57.560077  57.781066  2207900\n",
      "2020-01-03  57.899429  57.946782  57.544269  57.678440  3472900\n",
      "2020-01-06  57.907352  57.986276  57.583757  57.615327  8359000\n",
      "2020-01-07  57.844193  58.175676  57.788945  58.017829  3622600\n",
      "2020-01-08  58.294071  58.562414  57.796845  57.867875  6465500\n"
     ]
    }
   ],
   "source": [
    "# Step 6: Preview the saved data\n",
    "print(\"Sample historical data for TD:\")\n",
    "print(historical_data[\"TD\"].head())"
   ]
  },
  {
   "cell_type": "code",
   "execution_count": 40,
   "id": "096072af-3d15-4196-81c3-1d37482c9aaf",
   "metadata": {
    "tags": []
   },
   "outputs": [
    {
     "name": "stdout",
     "output_type": "stream",
     "text": [
      "\n",
      "Financial data:\n",
      "              Market Cap   PE Ratio  Dividend Yield   Beta\n",
      "TD          1.435082e+11  17.372883          0.0512  0.822\n",
      "BMO         1.018065e+11  14.665615          0.0462  1.160\n",
      "RBC         2.403518e+11  15.391304          0.0323  0.842\n",
      "CIBC        8.322114e+10  12.130494          0.0402  1.128\n",
      "Scotiabank  9.780933e+10  12.243612          0.0531  0.978\n"
     ]
    }
   ],
   "source": [
    "print(\"\\nFinancial data:\")\n",
    "print(financial_df)"
   ]
  },
  {
   "cell_type": "markdown",
   "id": "a2062d99-e7c4-4d34-a0db-4f952a98ae6a",
   "metadata": {},
   "source": [
    "#### Scrape financial data for each bank"
   ]
  },
  {
   "cell_type": "code",
   "execution_count": 41,
   "id": "69d17f43-258d-41ae-8e50-59b9d87cdfaf",
   "metadata": {},
   "outputs": [],
   "source": [
    "# Function to scrape financial data for each bank\n",
    "def scrape_financial_data():\n",
    "    for bank, ticker in bank_tickers.items():\n",
    "        print(f\"Scraping financial data for {bank} ({ticker})...\")\n",
    "\n",
    "        # Create Ticker object\n",
    "        stock = Ticker(ticker)\n",
    "\n",
    "        # Get financial data\n",
    "        income_statement = stock.income_statement()\n",
    "        balance_sheet = stock.balance_sheet()\n",
    "        cash_flow = stock.cash_flow()\n",
    "\n",
    "        # Fetch dividends using the history method\n",
    "        dividends = stock.history(period=\"max\")  # Get full historical data\n",
    "        dividends = dividends[dividends.index.get_level_values(\"symbol\") == ticker]  # Filter for current ticker\n",
    "        dividends = dividends[[\"dividends\"]]  # Select only dividends column\n",
    "\n",
    "        # Convert to DataFrame and save as CSV\n",
    "        pd.DataFrame(income_statement).to_csv(f\"{bank}_income_statement.csv\", index=False)\n",
    "        pd.DataFrame(balance_sheet).to_csv(f\"{bank}_balance_sheet.csv\", index=False)\n",
    "        pd.DataFrame(cash_flow).to_csv(f\"{bank}_cash_flow.csv\", index=False)\n",
    "        \n",
    "        if not dividends.empty:\n",
    "            dividends.to_csv(f\"{bank}_dividends.csv\")\n",
    "\n",
    "        print(f\"Data saved for {bank} ✅\")"
   ]
  },
  {
   "cell_type": "code",
   "execution_count": 42,
   "id": "fab05644-a84b-45b9-a9e4-7dec8f0bfeea",
   "metadata": {},
   "outputs": [
    {
     "name": "stdout",
     "output_type": "stream",
     "text": [
      "Scraping financial data for TD (TD.TO)...\n",
      "Data saved for TD ✅\n",
      "Scraping financial data for BMO (BMO.TO)...\n",
      "Data saved for BMO ✅\n",
      "Scraping financial data for RBC (RY.TO)...\n",
      "Data saved for RBC ✅\n",
      "Scraping financial data for CIBC (CM.TO)...\n",
      "Data saved for CIBC ✅\n",
      "Scraping financial data for Scotiabank (BNS.TO)...\n",
      "Data saved for Scotiabank ✅\n"
     ]
    }
   ],
   "source": [
    "# Run the scraper\n",
    "scrape_financial_data()"
   ]
  },
  {
   "cell_type": "markdown",
   "id": "f9d1170f-1a0e-4a24-b269-d885b6a62fbf",
   "metadata": {},
   "source": [
    "### Initial Data Inspection"
   ]
  },
  {
   "cell_type": "code",
   "execution_count": 5,
   "id": "9a59e1f2",
   "metadata": {},
   "outputs": [],
   "source": [
    "#Load one of the historical CSV files (e.g., TD_historical_data.csv) and explore it\n",
    "td_data = pd.read_csv(\"D:\\canadian_banks_stock_data\\canadian_banks_stock_data\\TD_historical_data.csv\")"
   ]
  },
  {
   "cell_type": "code",
   "execution_count": 6,
   "id": "c38304c7",
   "metadata": {},
   "outputs": [
    {
     "data": {
      "text/html": [
       "<div>\n",
       "<style scoped>\n",
       "    .dataframe tbody tr th:only-of-type {\n",
       "        vertical-align: middle;\n",
       "    }\n",
       "\n",
       "    .dataframe tbody tr th {\n",
       "        vertical-align: top;\n",
       "    }\n",
       "\n",
       "    .dataframe thead th {\n",
       "        text-align: right;\n",
       "    }\n",
       "</style>\n",
       "<table border=\"1\" class=\"dataframe\">\n",
       "  <thead>\n",
       "    <tr style=\"text-align: right;\">\n",
       "      <th></th>\n",
       "      <th>Price</th>\n",
       "      <th>Close</th>\n",
       "      <th>High</th>\n",
       "      <th>Low</th>\n",
       "      <th>Open</th>\n",
       "      <th>Volume</th>\n",
       "    </tr>\n",
       "  </thead>\n",
       "  <tbody>\n",
       "    <tr>\n",
       "      <th>0</th>\n",
       "      <td>Ticker</td>\n",
       "      <td>TD.TO</td>\n",
       "      <td>TD.TO</td>\n",
       "      <td>TD.TO</td>\n",
       "      <td>TD.TO</td>\n",
       "      <td>TD.TO</td>\n",
       "    </tr>\n",
       "    <tr>\n",
       "      <th>1</th>\n",
       "      <td>Date</td>\n",
       "      <td>NaN</td>\n",
       "      <td>NaN</td>\n",
       "      <td>NaN</td>\n",
       "      <td>NaN</td>\n",
       "      <td>NaN</td>\n",
       "    </tr>\n",
       "    <tr>\n",
       "      <th>2</th>\n",
       "      <td>2020-01-02</td>\n",
       "      <td>57.946807861328125</td>\n",
       "      <td>57.99416701667758</td>\n",
       "      <td>57.560076551433816</td>\n",
       "      <td>57.78106587137342</td>\n",
       "      <td>2207900</td>\n",
       "    </tr>\n",
       "    <tr>\n",
       "      <th>3</th>\n",
       "      <td>2020-01-03</td>\n",
       "      <td>57.89942932128906</td>\n",
       "      <td>57.94678243435267</td>\n",
       "      <td>57.54426893030253</td>\n",
       "      <td>57.67844009831924</td>\n",
       "      <td>3472900</td>\n",
       "    </tr>\n",
       "    <tr>\n",
       "      <th>4</th>\n",
       "      <td>2020-01-06</td>\n",
       "      <td>57.907352447509766</td>\n",
       "      <td>57.986276349218535</td>\n",
       "      <td>57.583756622543774</td>\n",
       "      <td>57.61532738752883</td>\n",
       "      <td>8359000</td>\n",
       "    </tr>\n",
       "  </tbody>\n",
       "</table>\n",
       "</div>"
      ],
      "text/plain": [
       "        Price               Close                High                 Low  \\\n",
       "0      Ticker               TD.TO               TD.TO               TD.TO   \n",
       "1        Date                 NaN                 NaN                 NaN   \n",
       "2  2020-01-02  57.946807861328125   57.99416701667758  57.560076551433816   \n",
       "3  2020-01-03   57.89942932128906   57.94678243435267   57.54426893030253   \n",
       "4  2020-01-06  57.907352447509766  57.986276349218535  57.583756622543774   \n",
       "\n",
       "                Open   Volume  \n",
       "0              TD.TO    TD.TO  \n",
       "1                NaN      NaN  \n",
       "2  57.78106587137342  2207900  \n",
       "3  57.67844009831924  3472900  \n",
       "4  57.61532738752883  8359000  "
      ]
     },
     "execution_count": 6,
     "metadata": {},
     "output_type": "execute_result"
    }
   ],
   "source": [
    "td_data.head()"
   ]
  },
  {
   "cell_type": "code",
   "execution_count": 49,
   "id": "8e9ba833",
   "metadata": {},
   "outputs": [
    {
     "name": "stdout",
     "output_type": "stream",
     "text": [
      "\n",
      "Missing values in TD data:\n",
      "Price     0\n",
      "Close     1\n",
      "High      1\n",
      "Low       1\n",
      "Open      1\n",
      "Volume    1\n",
      "dtype: int64\n"
     ]
    }
   ],
   "source": [
    " # Check for missing values\n",
    "print(\"\\nMissing values in TD data:\")\n",
    "print(td_data.isnull().sum())"
   ]
  },
  {
   "cell_type": "code",
   "execution_count": 50,
   "id": "6a317ab7",
   "metadata": {},
   "outputs": [
    {
     "data": {
      "text/html": [
       "<div>\n",
       "<style scoped>\n",
       "    .dataframe tbody tr th:only-of-type {\n",
       "        vertical-align: middle;\n",
       "    }\n",
       "\n",
       "    .dataframe tbody tr th {\n",
       "        vertical-align: top;\n",
       "    }\n",
       "\n",
       "    .dataframe thead th {\n",
       "        text-align: right;\n",
       "    }\n",
       "</style>\n",
       "<table border=\"1\" class=\"dataframe\">\n",
       "  <thead>\n",
       "    <tr style=\"text-align: right;\">\n",
       "      <th></th>\n",
       "      <th>Price</th>\n",
       "      <th>Close</th>\n",
       "      <th>High</th>\n",
       "      <th>Low</th>\n",
       "      <th>Open</th>\n",
       "      <th>Volume</th>\n",
       "    </tr>\n",
       "  </thead>\n",
       "  <tbody>\n",
       "    <tr>\n",
       "      <th>0</th>\n",
       "      <td>2020-01-02</td>\n",
       "      <td>57.946807861328125</td>\n",
       "      <td>57.99416701667758</td>\n",
       "      <td>57.560076551433816</td>\n",
       "      <td>57.78106587137342</td>\n",
       "      <td>2207900</td>\n",
       "    </tr>\n",
       "    <tr>\n",
       "      <th>1</th>\n",
       "      <td>2020-01-03</td>\n",
       "      <td>57.89942932128906</td>\n",
       "      <td>57.94678243435267</td>\n",
       "      <td>57.54426893030253</td>\n",
       "      <td>57.67844009831924</td>\n",
       "      <td>3472900</td>\n",
       "    </tr>\n",
       "    <tr>\n",
       "      <th>2</th>\n",
       "      <td>2020-01-06</td>\n",
       "      <td>57.907352447509766</td>\n",
       "      <td>57.986276349218535</td>\n",
       "      <td>57.583756622543774</td>\n",
       "      <td>57.61532738752883</td>\n",
       "      <td>8359000</td>\n",
       "    </tr>\n",
       "    <tr>\n",
       "      <th>3</th>\n",
       "      <td>2020-01-07</td>\n",
       "      <td>57.84419250488281</td>\n",
       "      <td>58.17567639944808</td>\n",
       "      <td>57.78894518912193</td>\n",
       "      <td>58.0178286462758</td>\n",
       "      <td>3622600</td>\n",
       "    </tr>\n",
       "    <tr>\n",
       "      <th>4</th>\n",
       "      <td>2020-01-08</td>\n",
       "      <td>58.294071197509766</td>\n",
       "      <td>58.56241360969641</td>\n",
       "      <td>57.79684530471935</td>\n",
       "      <td>57.867874994472366</td>\n",
       "      <td>6465500</td>\n",
       "    </tr>\n",
       "    <tr>\n",
       "      <th>...</th>\n",
       "      <td>...</td>\n",
       "      <td>...</td>\n",
       "      <td>...</td>\n",
       "      <td>...</td>\n",
       "      <td>...</td>\n",
       "      <td>...</td>\n",
       "    </tr>\n",
       "    <tr>\n",
       "      <th>1250</th>\n",
       "      <td>2024-12-23</td>\n",
       "      <td>74.59191131591797</td>\n",
       "      <td>74.61163870401722</td>\n",
       "      <td>73.73362316363925</td>\n",
       "      <td>73.9901243689176</td>\n",
       "      <td>5763300</td>\n",
       "    </tr>\n",
       "    <tr>\n",
       "      <th>1251</th>\n",
       "      <td>2024-12-24</td>\n",
       "      <td>75.1937026977539</td>\n",
       "      <td>75.25289239220729</td>\n",
       "      <td>74.48339625765291</td>\n",
       "      <td>75.1937026977539</td>\n",
       "      <td>1345700</td>\n",
       "    </tr>\n",
       "    <tr>\n",
       "      <th>1252</th>\n",
       "      <td>2024-12-27</td>\n",
       "      <td>75.39100646972656</td>\n",
       "      <td>75.61791284222221</td>\n",
       "      <td>75.07531555581855</td>\n",
       "      <td>75.12464531882436</td>\n",
       "      <td>5200200</td>\n",
       "    </tr>\n",
       "    <tr>\n",
       "      <th>1253</th>\n",
       "      <td>2024-12-30</td>\n",
       "      <td>75.20356750488281</td>\n",
       "      <td>75.51925840861496</td>\n",
       "      <td>74.83854683973492</td>\n",
       "      <td>74.97666113970118</td>\n",
       "      <td>14855800</td>\n",
       "    </tr>\n",
       "    <tr>\n",
       "      <th>1254</th>\n",
       "      <td>2024-12-31</td>\n",
       "      <td>75.49952697753906</td>\n",
       "      <td>75.94347227077341</td>\n",
       "      <td>75.37128012927057</td>\n",
       "      <td>75.38114758734206</td>\n",
       "      <td>5966100</td>\n",
       "    </tr>\n",
       "  </tbody>\n",
       "</table>\n",
       "<p>1255 rows × 6 columns</p>\n",
       "</div>"
      ],
      "text/plain": [
       "           Price               Close                High                 Low  \\\n",
       "0     2020-01-02  57.946807861328125   57.99416701667758  57.560076551433816   \n",
       "1     2020-01-03   57.89942932128906   57.94678243435267   57.54426893030253   \n",
       "2     2020-01-06  57.907352447509766  57.986276349218535  57.583756622543774   \n",
       "3     2020-01-07   57.84419250488281   58.17567639944808   57.78894518912193   \n",
       "4     2020-01-08  58.294071197509766   58.56241360969641   57.79684530471935   \n",
       "...          ...                 ...                 ...                 ...   \n",
       "1250  2024-12-23   74.59191131591797   74.61163870401722   73.73362316363925   \n",
       "1251  2024-12-24    75.1937026977539   75.25289239220729   74.48339625765291   \n",
       "1252  2024-12-27   75.39100646972656   75.61791284222221   75.07531555581855   \n",
       "1253  2024-12-30   75.20356750488281   75.51925840861496   74.83854683973492   \n",
       "1254  2024-12-31   75.49952697753906   75.94347227077341   75.37128012927057   \n",
       "\n",
       "                    Open    Volume  \n",
       "0      57.78106587137342   2207900  \n",
       "1      57.67844009831924   3472900  \n",
       "2      57.61532738752883   8359000  \n",
       "3       58.0178286462758   3622600  \n",
       "4     57.867874994472366   6465500  \n",
       "...                  ...       ...  \n",
       "1250    73.9901243689176   5763300  \n",
       "1251    75.1937026977539   1345700  \n",
       "1252   75.12464531882436   5200200  \n",
       "1253   74.97666113970118  14855800  \n",
       "1254   75.38114758734206   5966100  \n",
       "\n",
       "[1255 rows x 6 columns]"
      ]
     },
     "execution_count": 50,
     "metadata": {},
     "output_type": "execute_result"
    }
   ],
   "source": [
    "# Drop the first 2 row\n",
    "td_data = td_data.iloc[2:].reset_index(drop=True)\n",
    "td_data"
   ]
  },
  {
   "cell_type": "code",
   "execution_count": 51,
   "id": "8b6734d1",
   "metadata": {},
   "outputs": [
    {
     "data": {
      "text/html": [
       "<div>\n",
       "<style scoped>\n",
       "    .dataframe tbody tr th:only-of-type {\n",
       "        vertical-align: middle;\n",
       "    }\n",
       "\n",
       "    .dataframe tbody tr th {\n",
       "        vertical-align: top;\n",
       "    }\n",
       "\n",
       "    .dataframe thead th {\n",
       "        text-align: right;\n",
       "    }\n",
       "</style>\n",
       "<table border=\"1\" class=\"dataframe\">\n",
       "  <thead>\n",
       "    <tr style=\"text-align: right;\">\n",
       "      <th></th>\n",
       "      <th>date</th>\n",
       "      <th>close_price</th>\n",
       "      <th>high_price</th>\n",
       "      <th>low_price</th>\n",
       "      <th>open_price</th>\n",
       "      <th>volume</th>\n",
       "    </tr>\n",
       "  </thead>\n",
       "  <tbody>\n",
       "    <tr>\n",
       "      <th>0</th>\n",
       "      <td>2020-01-02</td>\n",
       "      <td>57.946807861328125</td>\n",
       "      <td>57.99416701667758</td>\n",
       "      <td>57.560076551433816</td>\n",
       "      <td>57.78106587137342</td>\n",
       "      <td>2207900</td>\n",
       "    </tr>\n",
       "    <tr>\n",
       "      <th>1</th>\n",
       "      <td>2020-01-03</td>\n",
       "      <td>57.89942932128906</td>\n",
       "      <td>57.94678243435267</td>\n",
       "      <td>57.54426893030253</td>\n",
       "      <td>57.67844009831924</td>\n",
       "      <td>3472900</td>\n",
       "    </tr>\n",
       "    <tr>\n",
       "      <th>2</th>\n",
       "      <td>2020-01-06</td>\n",
       "      <td>57.907352447509766</td>\n",
       "      <td>57.986276349218535</td>\n",
       "      <td>57.583756622543774</td>\n",
       "      <td>57.61532738752883</td>\n",
       "      <td>8359000</td>\n",
       "    </tr>\n",
       "    <tr>\n",
       "      <th>3</th>\n",
       "      <td>2020-01-07</td>\n",
       "      <td>57.84419250488281</td>\n",
       "      <td>58.17567639944808</td>\n",
       "      <td>57.78894518912193</td>\n",
       "      <td>58.0178286462758</td>\n",
       "      <td>3622600</td>\n",
       "    </tr>\n",
       "    <tr>\n",
       "      <th>4</th>\n",
       "      <td>2020-01-08</td>\n",
       "      <td>58.294071197509766</td>\n",
       "      <td>58.56241360969641</td>\n",
       "      <td>57.79684530471935</td>\n",
       "      <td>57.867874994472366</td>\n",
       "      <td>6465500</td>\n",
       "    </tr>\n",
       "    <tr>\n",
       "      <th>...</th>\n",
       "      <td>...</td>\n",
       "      <td>...</td>\n",
       "      <td>...</td>\n",
       "      <td>...</td>\n",
       "      <td>...</td>\n",
       "      <td>...</td>\n",
       "    </tr>\n",
       "    <tr>\n",
       "      <th>1250</th>\n",
       "      <td>2024-12-23</td>\n",
       "      <td>74.59191131591797</td>\n",
       "      <td>74.61163870401722</td>\n",
       "      <td>73.73362316363925</td>\n",
       "      <td>73.9901243689176</td>\n",
       "      <td>5763300</td>\n",
       "    </tr>\n",
       "    <tr>\n",
       "      <th>1251</th>\n",
       "      <td>2024-12-24</td>\n",
       "      <td>75.1937026977539</td>\n",
       "      <td>75.25289239220729</td>\n",
       "      <td>74.48339625765291</td>\n",
       "      <td>75.1937026977539</td>\n",
       "      <td>1345700</td>\n",
       "    </tr>\n",
       "    <tr>\n",
       "      <th>1252</th>\n",
       "      <td>2024-12-27</td>\n",
       "      <td>75.39100646972656</td>\n",
       "      <td>75.61791284222221</td>\n",
       "      <td>75.07531555581855</td>\n",
       "      <td>75.12464531882436</td>\n",
       "      <td>5200200</td>\n",
       "    </tr>\n",
       "    <tr>\n",
       "      <th>1253</th>\n",
       "      <td>2024-12-30</td>\n",
       "      <td>75.20356750488281</td>\n",
       "      <td>75.51925840861496</td>\n",
       "      <td>74.83854683973492</td>\n",
       "      <td>74.97666113970118</td>\n",
       "      <td>14855800</td>\n",
       "    </tr>\n",
       "    <tr>\n",
       "      <th>1254</th>\n",
       "      <td>2024-12-31</td>\n",
       "      <td>75.49952697753906</td>\n",
       "      <td>75.94347227077341</td>\n",
       "      <td>75.37128012927057</td>\n",
       "      <td>75.38114758734206</td>\n",
       "      <td>5966100</td>\n",
       "    </tr>\n",
       "  </tbody>\n",
       "</table>\n",
       "<p>1255 rows × 6 columns</p>\n",
       "</div>"
      ],
      "text/plain": [
       "            date         close_price          high_price           low_price  \\\n",
       "0     2020-01-02  57.946807861328125   57.99416701667758  57.560076551433816   \n",
       "1     2020-01-03   57.89942932128906   57.94678243435267   57.54426893030253   \n",
       "2     2020-01-06  57.907352447509766  57.986276349218535  57.583756622543774   \n",
       "3     2020-01-07   57.84419250488281   58.17567639944808   57.78894518912193   \n",
       "4     2020-01-08  58.294071197509766   58.56241360969641   57.79684530471935   \n",
       "...          ...                 ...                 ...                 ...   \n",
       "1250  2024-12-23   74.59191131591797   74.61163870401722   73.73362316363925   \n",
       "1251  2024-12-24    75.1937026977539   75.25289239220729   74.48339625765291   \n",
       "1252  2024-12-27   75.39100646972656   75.61791284222221   75.07531555581855   \n",
       "1253  2024-12-30   75.20356750488281   75.51925840861496   74.83854683973492   \n",
       "1254  2024-12-31   75.49952697753906   75.94347227077341   75.37128012927057   \n",
       "\n",
       "              open_price    volume  \n",
       "0      57.78106587137342   2207900  \n",
       "1      57.67844009831924   3472900  \n",
       "2      57.61532738752883   8359000  \n",
       "3       58.0178286462758   3622600  \n",
       "4     57.867874994472366   6465500  \n",
       "...                  ...       ...  \n",
       "1250    73.9901243689176   5763300  \n",
       "1251    75.1937026977539   1345700  \n",
       "1252   75.12464531882436   5200200  \n",
       "1253   74.97666113970118  14855800  \n",
       "1254   75.38114758734206   5966100  \n",
       "\n",
       "[1255 rows x 6 columns]"
      ]
     },
     "execution_count": 51,
     "metadata": {},
     "output_type": "execute_result"
    }
   ],
   "source": [
    "# Rename columns\n",
    "td_data.columns = [\"date\", \"close_price\", \"high_price\", \"low_price\", \"open_price\", \"volume\"]\n",
    "td_data"
   ]
  },
  {
   "cell_type": "markdown",
   "id": "2e65e922",
   "metadata": {},
   "source": [
    "### Set Up Database Connection"
   ]
  },
  {
   "cell_type": "code",
   "execution_count": 7,
   "id": "7b5a43fc",
   "metadata": {},
   "outputs": [
    {
     "name": "stdout",
     "output_type": "stream",
     "text": [
      "Requirement already satisfied: python-dotenv in c:\\python311\\lib\\site-packages (1.0.1)\n"
     ]
    },
    {
     "name": "stderr",
     "output_type": "stream",
     "text": [
      "WARNING: Ignoring invalid distribution ~ (C:\\Python311\\Lib\\site-packages)\n",
      "WARNING: Ignoring invalid distribution ~ip (C:\\Python311\\Lib\\site-packages)\n",
      "WARNING: Ignoring invalid distribution ~ (C:\\Python311\\Lib\\site-packages)\n",
      "WARNING: Ignoring invalid distribution ~ip (C:\\Python311\\Lib\\site-packages)\n",
      "WARNING: Ignoring invalid distribution ~ (C:\\Python311\\Lib\\site-packages)\n",
      "WARNING: Ignoring invalid distribution ~ip (C:\\Python311\\Lib\\site-packages)\n"
     ]
    }
   ],
   "source": [
    "!pip install python-dotenv"
   ]
  },
  {
   "cell_type": "code",
   "execution_count": 8,
   "id": "2aa003f3",
   "metadata": {},
   "outputs": [
    {
     "name": "stdout",
     "output_type": "stream",
     "text": [
      "Connected to database: stock at 10.243.191.45\n"
     ]
    }
   ],
   "source": [
    "import os\n",
    "import psycopg2\n",
    "from dotenv import load_dotenv\n",
    "# Load environment variables from .env file\n",
    "load_dotenv()\n",
    "\n",
    "# Get credentials from environment variables\n",
    "DB_NAME = os.getenv(\"DB_NAME\")\n",
    "DB_USER = os.getenv(\"DB_USER\")\n",
    "DB_PASSWORD = os.getenv(\"DB_PASSWORD\")\n",
    "DB_HOST = os.getenv(\"DB_HOST\")\n",
    "DB_PORT = os.getenv(\"DB_PORT\")\n",
    "\n",
    "# Print to verify (remove in production)\n",
    "print(f\"Connected to database: {DB_NAME} at {DB_HOST}\")\n",
    "\n",
    "# Connect to the database\n",
    "conn = psycopg2.connect(\n",
    "    dbname=DB_NAME,\n",
    "    user=DB_USER,\n",
    "    password=DB_PASSWORD,\n",
    "    host=DB_HOST,\n",
    "    port=DB_PORT\n",
    ")"
   ]
  },
  {
   "cell_type": "markdown",
   "id": "ffe0117f",
   "metadata": {},
   "source": [
    "###  Inserting data row-by-row into PostgreSQL database"
   ]
  },
  {
   "cell_type": "code",
   "execution_count": 25,
   "id": "ffb38778",
   "metadata": {},
   "outputs": [],
   "source": [
    "%%capture\n",
    "! pip install psycopg2 pandas"
   ]
  },
  {
   "cell_type": "code",
   "execution_count": 22,
   "id": "c17a41fc",
   "metadata": {},
   "outputs": [],
   "source": [
    "import os\n",
    "import pandas as pd\n",
    "import psycopg2"
   ]
  },
  {
   "cell_type": "code",
   "execution_count": 24,
   "id": "765e4583",
   "metadata": {},
   "outputs": [
    {
     "name": "stdout",
     "output_type": "stream",
     "text": [
      "✅ Data inserted successfully for TD (TD.TO)\n",
      "✅ Data inserted successfully for Scotiabank (BNS.TO)\n",
      "✅ Data inserted successfully for RBC (RY.TO)\n"
     ]
    }
   ],
   "source": [
    "# Folder containing historical data CSV files\n",
    "csv_folder = \"D:\\\\CANADIAN_BANKS_STOCK_DATA\"\n",
    "\n",
    "# Bank tickers for TD, Scotiabank, and RBC\n",
    "bank_tickers = {\n",
    "    \"TD\": \"TD.TO\",\n",
    "    \"Scotiabank\": \"BNS.TO\",\n",
    "    \"RBC\": \"RY.TO\"\n",
    "}\n",
    "\n",
    "try:\n",
    "    # Connect to PostgreSQL\n",
    "    conn = psycopg2.connect(\n",
    "        dbname=DB_NAME,\n",
    "        user=DB_USER,\n",
    "        password=DB_PASSWORD,\n",
    "        host=DB_HOST,\n",
    "        port=DB_PORT\n",
    "    )\n",
    "    cursor = conn.cursor()\n",
    "\n",
    "    # SQL Query to Insert Data\n",
    "    insert_query = \"\"\"\n",
    "    INSERT INTO stock_prices (stock_ticker, date, open_price, high_price, low_price, close_price, volume)\n",
    "    VALUES (%s, %s, %s, %s, %s, %s, %s)\n",
    "    \"\"\"\n",
    "\n",
    "    # Process only historical data for TD, Scotiabank, and RBC\n",
    "    for bank, ticker in bank_tickers.items():\n",
    "        file_path = os.path.join(csv_folder, f\"{bank}_historical_data.csv\")\n",
    "\n",
    "        if os.path.exists(file_path):  # Check if file exists\n",
    "            df = pd.read_csv(file_path, skiprows=2)  # Skip first 2 rows\n",
    "\n",
    "            # Rename columns to match database schema\n",
    "            df.columns = [\"date\", \"close_price\", \"high_price\", \"low_price\", \"open_price\", \"volume\"]\n",
    "\n",
    "            # Insert data row by row (without data type conversion)\n",
    "            for _, row in df.iterrows():\n",
    "                cursor.execute(insert_query, (ticker, row[\"date\"], row[\"open_price\"], row[\"high_price\"],\n",
    "                                              row[\"low_price\"], row[\"close_price\"], row[\"volume\"]))\n",
    "\n",
    "            conn.commit()\n",
    "            print(f\"✅ Data inserted successfully for {bank} ({ticker})\")\n",
    "\n",
    "    # Close database connection\n",
    "    cursor.close()\n",
    "    conn.close()\n",
    "\n",
    "except Exception as e:\n",
    "    print(\"❌ Error inserting data:\", e)"
   ]
  }
 ],
 "metadata": {
  "kernelspec": {
   "display_name": "Python 3",
   "language": "python",
   "name": "python3"
  },
  "language_info": {
   "codemirror_mode": {
    "name": "ipython",
    "version": 3
   },
   "file_extension": ".py",
   "mimetype": "text/x-python",
   "name": "python",
   "nbconvert_exporter": "python",
   "pygments_lexer": "ipython3",
   "version": "3.11.0"
  }
 },
 "nbformat": 4,
 "nbformat_minor": 5
}
