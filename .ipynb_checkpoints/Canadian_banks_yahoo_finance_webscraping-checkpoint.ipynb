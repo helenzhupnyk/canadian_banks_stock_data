{
 "cells": [
  {
   "cell_type": "markdown",
   "id": "efec11d1-b96f-4c40-be2c-4c39d056055f",
   "metadata": {},
   "source": [
    "# Canadian Banks Stock Data Analysis\n",
    "### Authors: Mariia-Olena Zhupnyk & Mariia Shekhovtsova"
   ]
  },
  {
   "cell_type": "markdown",
   "id": "a1bc54b2-6931-41db-b421-73d9181f3c32",
   "metadata": {},
   "source": [
    "## Table of Contents\n",
    "1. [Introduction](#1-introduction)\n",
    "2. [Data Collection](#2-data-collection)\n",
    "   - [Install and Import Libraries](#21-import-libraries)\n",
    "   - [Scrape Data for Selected Banks](#23-scrape-data-for-selected-banks)\n",
    "3. [Data Preprocessing & Cleaning](#3-data-preprocessing--cleaning)\n",
    "4. [Exploratory Data Analysis (EDA)](#4-exploratory-data-analysis-eda)\n",
    "5. [Statistical Analysis & Financial Metrics](#5-statistical-analysis--financial-metrics)\n",
    "6. [Power BI Dashboard](#6-power-bi-dashboard)\n",
    "7. [Conclusion & Insights](#7-conclusion--insights)"
   ]
  },
  {
   "cell_type": "markdown",
   "id": "35e5b447-8636-4b31-9bcd-c8829765f245",
   "metadata": {},
   "source": [
    "## 1. Introduction"
   ]
  },
  {
   "cell_type": "markdown",
   "id": "3ca86ddc-d259-4919-bb26-cd1dc41836de",
   "metadata": {},
   "source": [
    "The purpose of this project is to analyze the stock performance of Canada’s leading banks — **BMO, CIBC, TD, RBC, and Scotiabank** — over the past five years. Through this analysis, we aim to provide data-driven insights into market trends, investment risks, and stock relationships. The findings can support investors, analysts, and financial professionals in making informed decisions.\n",
    "\n",
    "### Objectives:\n",
    "- **[Stock Market Performance Analysis](#4-exploratory-data-analysis-eda)** – Evaluating stock trends and overall performance.\n",
    "- **[Volatility Assessment](#5-statistical-analysis--financial-metrics)** – Measuring price fluctuations to identify risk levels and market stability.\n",
    "- **[Stock Price Correlation](#5-statistical-analysis--financial-metrics)** – Examining relationships between different banks' stock prices.\n",
    "- **[Prediction Model Development](#5-statistical-analysis--financial-metrics)** – Building a predictive model to forecast stock trends and help investors determine which bank is more stable or offers better returns.\n",
    "\n",
    "We collect stock price data and financial statements from [Yahoo Finance](https://finance.yahoo.com/), process them using Python, store them in a PostgreSQL database, and visualize insights using Power BI."
   ]
  },
  {
   "cell_type": "markdown",
   "id": "7639006d-2e70-4f6f-93d1-119c68e6f061",
   "metadata": {},
   "source": [
    "## 2. Data Collection\n",
    "\n",
    "### 2.1 Install and Import Libraries"
   ]
  },
  {
   "cell_type": "code",
   "execution_count": 9,
   "id": "a73f9124-364d-42c1-9b4e-77e61def0e8a",
   "metadata": {
    "tags": []
   },
   "outputs": [
    {
     "name": "stdout",
     "output_type": "stream",
     "text": [
      "Requirement already satisfied: yfinance in c:\\users\\user\\appdata\\roaming\\python\\python311\\site-packages (0.2.52)\n",
      "Requirement already satisfied: pandas>=1.3.0 in c:\\python311\\lib\\site-packages (from yfinance) (2.0.3)\n",
      "Requirement already satisfied: numpy>=1.16.5 in c:\\python311\\lib\\site-packages (from yfinance) (1.25.2)\n",
      "Requirement already satisfied: requests>=2.31 in c:\\python311\\lib\\site-packages (from yfinance) (2.32.3)\n",
      "Requirement already satisfied: multitasking>=0.0.7 in c:\\users\\user\\appdata\\roaming\\python\\python311\\site-packages (from yfinance) (0.0.11)\n",
      "Requirement already satisfied: lxml>=4.9.1 in c:\\python311\\lib\\site-packages (from yfinance) (4.9.4)\n",
      "Requirement already satisfied: platformdirs>=2.0.0 in c:\\python311\\lib\\site-packages (from yfinance) (4.3.6)\n",
      "Requirement already satisfied: pytz>=2022.5 in c:\\python311\\lib\\site-packages (from yfinance) (2023.3)\n",
      "Requirement already satisfied: frozendict>=2.3.4 in c:\\users\\user\\appdata\\roaming\\python\\python311\\site-packages (from yfinance) (2.4.6)\n",
      "Requirement already satisfied: peewee>=3.16.2 in c:\\users\\user\\appdata\\roaming\\python\\python311\\site-packages (from yfinance) (3.17.8)\n",
      "Requirement already satisfied: beautifulsoup4>=4.11.1 in c:\\python311\\lib\\site-packages (from yfinance) (4.12.3)\n",
      "Requirement already satisfied: html5lib>=1.1 in c:\\users\\user\\appdata\\roaming\\python\\python311\\site-packages (from yfinance) (1.1)\n",
      "Requirement already satisfied: soupsieve>1.2 in c:\\python311\\lib\\site-packages (from beautifulsoup4>=4.11.1->yfinance) (2.6)\n",
      "Requirement already satisfied: six>=1.9 in c:\\python311\\lib\\site-packages (from html5lib>=1.1->yfinance) (1.16.0)\n",
      "Requirement already satisfied: webencodings in c:\\python311\\lib\\site-packages (from html5lib>=1.1->yfinance) (0.5.1)\n",
      "Requirement already satisfied: python-dateutil>=2.8.2 in c:\\python311\\lib\\site-packages (from pandas>=1.3.0->yfinance) (2.8.2)\n",
      "Requirement already satisfied: tzdata>=2022.1 in c:\\python311\\lib\\site-packages (from pandas>=1.3.0->yfinance) (2023.3)\n",
      "Requirement already satisfied: charset-normalizer<4,>=2 in c:\\python311\\lib\\site-packages (from requests>=2.31->yfinance) (3.4.1)\n",
      "Requirement already satisfied: idna<4,>=2.5 in c:\\python311\\lib\\site-packages (from requests>=2.31->yfinance) (3.10)\n",
      "Requirement already satisfied: urllib3<3,>=1.21.1 in c:\\python311\\lib\\site-packages (from requests>=2.31->yfinance) (2.3.0)\n",
      "Requirement already satisfied: certifi>=2017.4.17 in c:\\python311\\lib\\site-packages (from requests>=2.31->yfinance) (2024.12.14)\n"
     ]
    },
    {
     "name": "stderr",
     "output_type": "stream",
     "text": [
      "WARNING: Ignoring invalid distribution ~ (C:\\Python311\\Lib\\site-packages)\n",
      "WARNING: Ignoring invalid distribution ~ip (C:\\Python311\\Lib\\site-packages)\n",
      "WARNING: Ignoring invalid distribution ~ (C:\\Python311\\Lib\\site-packages)\n",
      "WARNING: Ignoring invalid distribution ~ip (C:\\Python311\\Lib\\site-packages)\n",
      "WARNING: Ignoring invalid distribution ~ (C:\\Python311\\Lib\\site-packages)\n",
      "WARNING: Ignoring invalid distribution ~ip (C:\\Python311\\Lib\\site-packages)\n"
     ]
    },
    {
     "name": "stdout",
     "output_type": "stream",
     "text": [
      "Requirement already satisfied: yahooquery in c:\\python311\\lib\\site-packages (2.3.7)\n",
      "Requirement already satisfied: beautifulsoup4<5.0.0,>=4.12.2 in c:\\python311\\lib\\site-packages (from yahooquery) (4.12.3)\n",
      "Requirement already satisfied: lxml<5.0.0,>=4.9.3 in c:\\python311\\lib\\site-packages (from yahooquery) (4.9.4)\n",
      "Requirement already satisfied: pandas<3.0.0,>=2.0.3 in c:\\python311\\lib\\site-packages (from yahooquery) (2.0.3)\n",
      "Requirement already satisfied: requests<3.0.0,>=2.31.0 in c:\\python311\\lib\\site-packages (from yahooquery) (2.32.3)\n",
      "Requirement already satisfied: requests-futures<2.0.0,>=1.0.1 in c:\\python311\\lib\\site-packages (from yahooquery) (1.0.2)\n",
      "Requirement already satisfied: tqdm<5.0.0,>=4.65.0 in c:\\python311\\lib\\site-packages (from yahooquery) (4.67.1)\n",
      "Requirement already satisfied: soupsieve>1.2 in c:\\python311\\lib\\site-packages (from beautifulsoup4<5.0.0,>=4.12.2->yahooquery) (2.6)\n",
      "Requirement already satisfied: python-dateutil>=2.8.2 in c:\\python311\\lib\\site-packages (from pandas<3.0.0,>=2.0.3->yahooquery) (2.8.2)\n",
      "Requirement already satisfied: pytz>=2020.1 in c:\\python311\\lib\\site-packages (from pandas<3.0.0,>=2.0.3->yahooquery) (2023.3)\n",
      "Requirement already satisfied: tzdata>=2022.1 in c:\\python311\\lib\\site-packages (from pandas<3.0.0,>=2.0.3->yahooquery) (2023.3)\n",
      "Requirement already satisfied: numpy>=1.21.0 in c:\\python311\\lib\\site-packages (from pandas<3.0.0,>=2.0.3->yahooquery) (1.25.2)\n",
      "Requirement already satisfied: charset-normalizer<4,>=2 in c:\\python311\\lib\\site-packages (from requests<3.0.0,>=2.31.0->yahooquery) (3.4.1)\n",
      "Requirement already satisfied: idna<4,>=2.5 in c:\\python311\\lib\\site-packages (from requests<3.0.0,>=2.31.0->yahooquery) (3.10)\n",
      "Requirement already satisfied: urllib3<3,>=1.21.1 in c:\\python311\\lib\\site-packages (from requests<3.0.0,>=2.31.0->yahooquery) (2.3.0)\n",
      "Requirement already satisfied: certifi>=2017.4.17 in c:\\python311\\lib\\site-packages (from requests<3.0.0,>=2.31.0->yahooquery) (2024.12.14)\n",
      "Requirement already satisfied: colorama in c:\\python311\\lib\\site-packages (from tqdm<5.0.0,>=4.65.0->yahooquery) (0.4.6)\n",
      "Requirement already satisfied: six>=1.5 in c:\\python311\\lib\\site-packages (from python-dateutil>=2.8.2->pandas<3.0.0,>=2.0.3->yahooquery) (1.16.0)\n"
     ]
    },
    {
     "name": "stderr",
     "output_type": "stream",
     "text": [
      "WARNING: Ignoring invalid distribution ~ (C:\\Python311\\Lib\\site-packages)\n",
      "WARNING: Ignoring invalid distribution ~ip (C:\\Python311\\Lib\\site-packages)\n",
      "WARNING: Ignoring invalid distribution ~ (C:\\Python311\\Lib\\site-packages)\n",
      "WARNING: Ignoring invalid distribution ~ip (C:\\Python311\\Lib\\site-packages)\n",
      "WARNING: Ignoring invalid distribution ~ (C:\\Python311\\Lib\\site-packages)\n",
      "WARNING: Ignoring invalid distribution ~ip (C:\\Python311\\Lib\\site-packages)\n"
     ]
    },
    {
     "name": "stdout",
     "output_type": "stream",
     "text": [
      "Requirement already satisfied: matplotlib in c:\\python311\\lib\\site-packages (3.10.0)\n",
      "Requirement already satisfied: contourpy>=1.0.1 in c:\\python311\\lib\\site-packages (from matplotlib) (1.3.1)\n",
      "Requirement already satisfied: cycler>=0.10 in c:\\python311\\lib\\site-packages (from matplotlib) (0.12.1)\n",
      "Requirement already satisfied: fonttools>=4.22.0 in c:\\python311\\lib\\site-packages (from matplotlib) (4.55.8)\n",
      "Requirement already satisfied: kiwisolver>=1.3.1 in c:\\python311\\lib\\site-packages (from matplotlib) (1.4.8)\n",
      "Requirement already satisfied: numpy>=1.23 in c:\\python311\\lib\\site-packages (from matplotlib) (1.25.2)\n",
      "Requirement already satisfied: packaging>=20.0 in c:\\python311\\lib\\site-packages (from matplotlib) (24.2)\n",
      "Requirement already satisfied: pillow>=8 in c:\\python311\\lib\\site-packages (from matplotlib) (11.1.0)\n",
      "Requirement already satisfied: pyparsing>=2.3.1 in c:\\python311\\lib\\site-packages (from matplotlib) (3.2.1)\n",
      "Requirement already satisfied: python-dateutil>=2.7 in c:\\python311\\lib\\site-packages (from matplotlib) (2.8.2)\n",
      "Requirement already satisfied: six>=1.5 in c:\\python311\\lib\\site-packages (from python-dateutil>=2.7->matplotlib) (1.16.0)\n",
      "Note: you may need to restart the kernel to use updated packages.\n"
     ]
    },
    {
     "name": "stderr",
     "output_type": "stream",
     "text": [
      "WARNING: Ignoring invalid distribution ~ (C:\\Python311\\Lib\\site-packages)\n",
      "WARNING: Ignoring invalid distribution ~ip (C:\\Python311\\Lib\\site-packages)\n",
      "WARNING: Ignoring invalid distribution ~ (C:\\Python311\\Lib\\site-packages)\n",
      "WARNING: Ignoring invalid distribution ~ip (C:\\Python311\\Lib\\site-packages)\n",
      "WARNING: Ignoring invalid distribution ~ (C:\\Python311\\Lib\\site-packages)\n",
      "WARNING: Ignoring invalid distribution ~ip (C:\\Python311\\Lib\\site-packages)\n"
     ]
    },
    {
     "name": "stdout",
     "output_type": "stream",
     "text": [
      "Collecting seaborn\n",
      "  Downloading seaborn-0.13.2-py3-none-any.whl.metadata (5.4 kB)\n",
      "Requirement already satisfied: numpy!=1.24.0,>=1.20 in c:\\python311\\lib\\site-packages (from seaborn) (1.25.2)\n",
      "Requirement already satisfied: pandas>=1.2 in c:\\python311\\lib\\site-packages (from seaborn) (2.0.3)\n",
      "Requirement already satisfied: matplotlib!=3.6.1,>=3.4 in c:\\python311\\lib\\site-packages (from seaborn) (3.10.0)\n",
      "Requirement already satisfied: contourpy>=1.0.1 in c:\\python311\\lib\\site-packages (from matplotlib!=3.6.1,>=3.4->seaborn) (1.3.1)\n",
      "Requirement already satisfied: cycler>=0.10 in c:\\python311\\lib\\site-packages (from matplotlib!=3.6.1,>=3.4->seaborn) (0.12.1)\n",
      "Requirement already satisfied: fonttools>=4.22.0 in c:\\python311\\lib\\site-packages (from matplotlib!=3.6.1,>=3.4->seaborn) (4.55.8)\n",
      "Requirement already satisfied: kiwisolver>=1.3.1 in c:\\python311\\lib\\site-packages (from matplotlib!=3.6.1,>=3.4->seaborn) (1.4.8)\n",
      "Requirement already satisfied: packaging>=20.0 in c:\\python311\\lib\\site-packages (from matplotlib!=3.6.1,>=3.4->seaborn) (24.2)\n",
      "Requirement already satisfied: pillow>=8 in c:\\python311\\lib\\site-packages (from matplotlib!=3.6.1,>=3.4->seaborn) (11.1.0)\n",
      "Requirement already satisfied: pyparsing>=2.3.1 in c:\\python311\\lib\\site-packages (from matplotlib!=3.6.1,>=3.4->seaborn) (3.2.1)\n",
      "Requirement already satisfied: python-dateutil>=2.7 in c:\\python311\\lib\\site-packages (from matplotlib!=3.6.1,>=3.4->seaborn) (2.8.2)\n",
      "Requirement already satisfied: pytz>=2020.1 in c:\\python311\\lib\\site-packages (from pandas>=1.2->seaborn) (2023.3)\n",
      "Requirement already satisfied: tzdata>=2022.1 in c:\\python311\\lib\\site-packages (from pandas>=1.2->seaborn) (2023.3)\n",
      "Requirement already satisfied: six>=1.5 in c:\\python311\\lib\\site-packages (from python-dateutil>=2.7->matplotlib!=3.6.1,>=3.4->seaborn) (1.16.0)\n",
      "Downloading seaborn-0.13.2-py3-none-any.whl (294 kB)\n",
      "Installing collected packages: seaborn\n",
      "Successfully installed seaborn-0.13.2\n"
     ]
    },
    {
     "name": "stderr",
     "output_type": "stream",
     "text": [
      "WARNING: Ignoring invalid distribution ~ (C:\\Python311\\Lib\\site-packages)\n",
      "WARNING: Ignoring invalid distribution ~ip (C:\\Python311\\Lib\\site-packages)\n",
      "WARNING: Ignoring invalid distribution ~ (C:\\Python311\\Lib\\site-packages)\n",
      "WARNING: Ignoring invalid distribution ~ip (C:\\Python311\\Lib\\site-packages)\n",
      "WARNING: Ignoring invalid distribution ~ (C:\\Python311\\Lib\\site-packages)\n",
      "WARNING: Ignoring invalid distribution ~ip (C:\\Python311\\Lib\\site-packages)\n"
     ]
    }
   ],
   "source": [
    "!pip install yfinance\n",
    "!pip install yahooquery\n",
    "%pip install matplotlib\n",
    "!pip install seaborn"
   ]
  },
  {
   "cell_type": "code",
   "execution_count": 10,
   "id": "9cbe2066-f0b3-4e69-8995-64c241b54a79",
   "metadata": {
    "tags": []
   },
   "outputs": [],
   "source": [
    "import yfinance as yf\n",
    "from yahooquery import Ticker\n",
    "import pandas as pd\n",
    "import numpy as np\n",
    "import matplotlib.pyplot as plt\n",
    "import seaborn as sns\n",
    "import datetime"
   ]
  },
  {
   "cell_type": "code",
   "execution_count": 11,
   "id": "23253268-4758-4cb7-bfe0-256237851ebd",
   "metadata": {
    "tags": []
   },
   "outputs": [],
   "source": [
    "import warnings\n",
    "# Ignore all warnings\n",
    "warnings.filterwarnings(\"ignore\", category=FutureWarning)"
   ]
  },
  {
   "cell_type": "markdown",
   "id": "32a649aa-3998-4340-9f5a-6cc6bbca40fb",
   "metadata": {},
   "source": [
    "### 2.2 Scrape Data for Selected Banks"
   ]
  },
  {
   "cell_type": "markdown",
   "id": "53dfc5ac-678c-47b2-8487-e9e1a484ef47",
   "metadata": {},
   "source": [
    "#### Scrape Historical stock prices"
   ]
  },
  {
   "cell_type": "code",
   "execution_count": 9,
   "id": "9a6da134-53be-40d7-831d-172333847512",
   "metadata": {
    "tags": []
   },
   "outputs": [],
   "source": [
    "# Step 1: Define the tickers for Canadian banks\n",
    "bank_tickers = {\n",
    "    \"TD\": \"TD.TO\",\n",
    "    \"BMO\": \"BMO.TO\",\n",
    "    \"RBC\": \"RY.TO\",\n",
    "    \"CIBC\": \"CM.TO\",\n",
    "    \"Scotiabank\": \"BNS.TO\"\n",
    "}"
   ]
  },
  {
   "cell_type": "code",
   "execution_count": 5,
   "id": "13a3920e-8124-474d-9950-6baafcc9249e",
   "metadata": {
    "tags": []
   },
   "outputs": [
    {
     "name": "stdout",
     "output_type": "stream",
     "text": [
      "Downloading historical data for TD (TD.TO)...\n"
     ]
    },
    {
     "name": "stderr",
     "output_type": "stream",
     "text": [
      "[*********************100%***********************]  1 of 1 completed\n"
     ]
    },
    {
     "name": "stdout",
     "output_type": "stream",
     "text": [
      "Downloading historical data for BMO (BMO.TO)...\n"
     ]
    },
    {
     "name": "stderr",
     "output_type": "stream",
     "text": [
      "[*********************100%***********************]  1 of 1 completed\n",
      "[*********************100%***********************]  1 of 1 completed\n"
     ]
    },
    {
     "name": "stdout",
     "output_type": "stream",
     "text": [
      "Downloading historical data for RBC (RY.TO)...\n",
      "Downloading historical data for CIBC (CM.TO)...\n"
     ]
    },
    {
     "name": "stderr",
     "output_type": "stream",
     "text": [
      "[*********************100%***********************]  1 of 1 completed\n",
      "[*********************100%***********************]  1 of 1 completed"
     ]
    },
    {
     "name": "stdout",
     "output_type": "stream",
     "text": [
      "Downloading historical data for Scotiabank (BNS.TO)...\n"
     ]
    },
    {
     "name": "stderr",
     "output_type": "stream",
     "text": [
      "\n"
     ]
    }
   ],
   "source": [
    "# Step 2: Download historical stock prices\n",
    "historical_data = {}\n",
    "for bank, ticker in bank_tickers.items():\n",
    "    print(f\"Downloading historical data for {bank} ({ticker})...\")\n",
    "    historical_data[bank] = yf.download(ticker, start=\"2020-01-01\", end=\"2025-01-01\")"
   ]
  },
  {
   "cell_type": "code",
   "execution_count": 6,
   "id": "26bb31a8-090b-4d87-814c-5cb968569cc7",
   "metadata": {
    "tags": []
   },
   "outputs": [
    {
     "name": "stdout",
     "output_type": "stream",
     "text": [
      "Saved historical data for TD to TD_historical_data.csv\n",
      "Saved historical data for BMO to BMO_historical_data.csv\n",
      "Saved historical data for RBC to RBC_historical_data.csv\n",
      "Saved historical data for CIBC to CIBC_historical_data.csv\n",
      "Saved historical data for Scotiabank to Scotiabank_historical_data.csv\n"
     ]
    }
   ],
   "source": [
    "# Step 3: Save historical data to CSV\n",
    "for bank, data in historical_data.items():\n",
    "    data.to_csv(f\"{bank}_historical_data.csv\")\n",
    "    print(f\"Saved historical data for {bank} to {bank}_historical_data.csv\")"
   ]
  },
  {
   "cell_type": "code",
   "execution_count": 7,
   "id": "d4727f9e-a201-4eff-b875-5cf70d87c5b3",
   "metadata": {
    "tags": []
   },
   "outputs": [
    {
     "name": "stdout",
     "output_type": "stream",
     "text": [
      "Fetching financial data for TD (TD.TO)...\n",
      "Fetching financial data for BMO (BMO.TO)...\n",
      "Fetching financial data for RBC (RY.TO)...\n",
      "Fetching financial data for CIBC (CM.TO)...\n",
      "Fetching financial data for Scotiabank (BNS.TO)...\n"
     ]
    }
   ],
   "source": [
    "# Step 4: Fetch financial data (e.g., market cap, PE ratio, dividend yield)\n",
    "financial_data = {}\n",
    "for bank, ticker in bank_tickers.items():\n",
    "    print(f\"Fetching financial data for {bank} ({ticker})...\")\n",
    "    stock = yf.Ticker(ticker)\n",
    "    financial_data[bank] = {\n",
    "        \"Market Cap\": stock.info.get(\"marketCap\"),\n",
    "        \"PE Ratio\": stock.info.get(\"trailingPE\"),\n",
    "        \"Dividend Yield\": stock.info.get(\"dividendYield\"),\n",
    "        \"Beta\": stock.info.get(\"beta\"),\n",
    "    }"
   ]
  },
  {
   "cell_type": "code",
   "execution_count": 8,
   "id": "cdba6ae9-680d-4f97-a556-cbb0e76e28fa",
   "metadata": {
    "tags": []
   },
   "outputs": [
    {
     "name": "stdout",
     "output_type": "stream",
     "text": [
      "Saved financial data to financial_data.csv\n"
     ]
    }
   ],
   "source": [
    "# Step 5: Save financial data to CSV\n",
    "financial_df = pd.DataFrame(financial_data).transpose()\n",
    "financial_df.to_csv(\"financial_data.csv\")\n",
    "print(\"Saved financial data to financial_data.csv\")"
   ]
  },
  {
   "cell_type": "code",
   "execution_count": 9,
   "id": "f58ab85e-e670-470f-8156-1afee9078b45",
   "metadata": {
    "tags": []
   },
   "outputs": [
    {
     "name": "stdout",
     "output_type": "stream",
     "text": [
      "Sample historical data for TD:\n",
      "Price           Close       High        Low       Open   Volume\n",
      "Ticker          TD.TO      TD.TO      TD.TO      TD.TO    TD.TO\n",
      "Date                                                           \n",
      "2020-01-02  57.946812  57.994171  57.560080  57.781070  2207900\n",
      "2020-01-03  57.899452  57.946805  57.544292  57.678463  3472900\n",
      "2020-01-06  57.907341  57.986265  57.583745  57.615316  8359000\n",
      "2020-01-07  57.844208  58.175692  57.788960  58.017844  3622600\n",
      "2020-01-08  58.294079  58.562421  57.796853  57.867883  6465500\n"
     ]
    }
   ],
   "source": [
    "# Step 6: Preview the saved data\n",
    "print(\"Sample historical data for TD:\")\n",
    "print(historical_data[\"TD\"].head())"
   ]
  },
  {
   "cell_type": "code",
   "execution_count": 10,
   "id": "096072af-3d15-4196-81c3-1d37482c9aaf",
   "metadata": {
    "tags": []
   },
   "outputs": [
    {
     "name": "stdout",
     "output_type": "stream",
     "text": [
      "\n",
      "Financial data:\n",
      "              Market Cap   PE Ratio  Dividend Yield   Beta\n",
      "TD          1.441382e+11  17.449154          0.0512  0.822\n",
      "BMO         1.049765e+11  15.108192          0.0462  1.160\n",
      "RBC         2.458259e+11  15.434279          0.0323  0.842\n",
      "CIBC        8.540744e+10  12.449175          0.0402  1.128\n",
      "Scotiabank  1.005176e+11  12.582624          0.0531  0.978\n"
     ]
    }
   ],
   "source": [
    "print(\"\\nFinancial data:\")\n",
    "print(financial_df)"
   ]
  },
  {
   "cell_type": "markdown",
   "id": "a2062d99-e7c4-4d34-a0db-4f952a98ae6a",
   "metadata": {},
   "source": [
    "#### Scrape financial data for each bank"
   ]
  },
  {
   "cell_type": "code",
   "execution_count": 18,
   "id": "69d17f43-258d-41ae-8e50-59b9d87cdfaf",
   "metadata": {},
   "outputs": [],
   "source": [
    "# Function to scrape financial data for each bank\n",
    "def scrape_financial_data():\n",
    "    for bank, ticker in bank_tickers.items():\n",
    "        print(f\"Scraping financial data for {bank} ({ticker})...\")\n",
    "\n",
    "        # Create Ticker object\n",
    "        stock = Ticker(ticker)\n",
    "\n",
    "        # Get financial data\n",
    "        income_statement = stock.income_statement()\n",
    "        balance_sheet = stock.balance_sheet()\n",
    "        cash_flow = stock.cash_flow()\n",
    "\n",
    "        # Fetch dividends using the history method\n",
    "        dividends = stock.history(period=\"max\")  # Get full historical data\n",
    "        dividends = dividends[dividends.index.get_level_values(\"symbol\") == ticker]  # Filter for current ticker\n",
    "        dividends = dividends[[\"dividends\"]]  # Select only dividends column\n",
    "\n",
    "        # Convert to DataFrame and save as CSV\n",
    "        pd.DataFrame(income_statement).to_csv(f\"{bank}_income_statement.csv\", index=False)\n",
    "        pd.DataFrame(balance_sheet).to_csv(f\"{bank}_balance_sheet.csv\", index=False)\n",
    "        pd.DataFrame(cash_flow).to_csv(f\"{bank}_cash_flow.csv\", index=False)\n",
    "        \n",
    "        if not dividends.empty:\n",
    "            dividends.to_csv(f\"{bank}_dividends.csv\")\n",
    "\n",
    "        print(f\"Data saved for {bank} ✅\")"
   ]
  },
  {
   "cell_type": "code",
   "execution_count": 19,
   "id": "fab05644-a84b-45b9-a9e4-7dec8f0bfeea",
   "metadata": {},
   "outputs": [
    {
     "name": "stdout",
     "output_type": "stream",
     "text": [
      "Scraping financial data for TD (TD.TO)...\n",
      "Data saved for TD ✅\n",
      "Scraping financial data for BMO (BMO.TO)...\n",
      "Data saved for BMO ✅\n",
      "Scraping financial data for RBC (RY.TO)...\n",
      "Data saved for RBC ✅\n",
      "Scraping financial data for CIBC (CM.TO)...\n",
      "Data saved for CIBC ✅\n",
      "Scraping financial data for Scotiabank (BNS.TO)...\n",
      "Data saved for Scotiabank ✅\n"
     ]
    }
   ],
   "source": [
    "# Run the scraper\n",
    "scrape_financial_data()"
   ]
  },
  {
   "cell_type": "markdown",
   "id": "f9d1170f-1a0e-4a24-b269-d885b6a62fbf",
   "metadata": {},
   "source": [
    "### Data Preprocessing & Cleaning"
   ]
  },
  {
   "cell_type": "code",
   "execution_count": 11,
   "id": "3dfca59e-f422-4d2a-9088-9ba8469e997a",
   "metadata": {
    "tags": []
   },
   "outputs": [],
   "source": [
    "#Load one of the historical CSV files (e.g., TD_historical_data.csv)\n",
    "td_data = pd.read_csv(\"../PythonForDA/Canadian_banks/TD_historical_data.csv\")"
   ]
  },
  {
   "cell_type": "code",
   "execution_count": 12,
   "id": "f3472067-4e3d-475d-94c3-599098ce218f",
   "metadata": {
    "tags": []
   },
   "outputs": [
    {
     "name": "stdout",
     "output_type": "stream",
     "text": [
      "        Price              Close               High                 Low  \\\n",
      "0      Ticker              TD.TO              TD.TO               TD.TO   \n",
      "1        Date                NaN                NaN                 NaN   \n",
      "2  2020-01-02   57.9467887878418  57.99414792760275  57.560057605242065   \n",
      "3  2020-01-03  57.89945602416992  57.94680915907252   57.54429546938549   \n",
      "4  2020-01-06  57.90734100341797   57.9862648895292   57.58374524240345   \n",
      "\n",
      "                 Open   Volume  \n",
      "0               TD.TO    TD.TO  \n",
      "1                 NaN      NaN  \n",
      "2   57.78104685244191  2207900  \n",
      "3   57.67846669928117  3472900  \n",
      "4  57.615316001149246  8359000  \n"
     ]
    }
   ],
   "source": [
    "print(td_data.head())"
   ]
  },
  {
   "cell_type": "code",
   "execution_count": 13,
   "id": "4bf10bc5-378d-4af7-92ec-4fdc0dc4504f",
   "metadata": {
    "tags": []
   },
   "outputs": [
    {
     "name": "stdout",
     "output_type": "stream",
     "text": [
      "\n",
      "Missing values in TD data:\n",
      "Price     0\n",
      "Close     1\n",
      "High      1\n",
      "Low       1\n",
      "Open      1\n",
      "Volume    1\n",
      "dtype: int64\n"
     ]
    }
   ],
   "source": [
    " # Check for missing values\n",
    "print(\"\\nMissing values in TD data:\")\n",
    "print(td_data.isnull().sum())"
   ]
  },
  {
   "cell_type": "code",
   "execution_count": 14,
   "id": "26ba694c-93be-4b70-8dd1-e94c87d974ee",
   "metadata": {
    "tags": []
   },
   "outputs": [
    {
     "name": "stdout",
     "output_type": "stream",
     "text": [
      "<class 'pandas.core.frame.DataFrame'>\n",
      "RangeIndex: 1257 entries, 0 to 1256\n",
      "Data columns (total 6 columns):\n",
      " #   Column  Non-Null Count  Dtype \n",
      "---  ------  --------------  ----- \n",
      " 0   Price   1257 non-null   object\n",
      " 1   Close   1256 non-null   object\n",
      " 2   High    1256 non-null   object\n",
      " 3   Low     1256 non-null   object\n",
      " 4   Open    1256 non-null   object\n",
      " 5   Volume  1256 non-null   object\n",
      "dtypes: object(6)\n",
      "memory usage: 59.1+ KB\n",
      "None\n"
     ]
    }
   ],
   "source": [
    "print(td_data.info())"
   ]
  },
  {
   "cell_type": "code",
   "execution_count": 15,
   "id": "51371c3f-2782-4f7e-a409-3ab6e94954c9",
   "metadata": {
    "tags": []
   },
   "outputs": [],
   "source": [
    "#td_data = td_data.dropna()  # Drop rows with missing values"
   ]
  },
  {
   "cell_type": "code",
   "execution_count": 16,
   "id": "a8d6ce17-e5b4-4cd9-9d4d-5467e3142f1f",
   "metadata": {
    "tags": []
   },
   "outputs": [],
   "source": [
    "#print(td_data.isnull().sum())"
   ]
  },
  {
   "cell_type": "code",
   "execution_count": 17,
   "id": "c7b5351f-b149-4a12-a3fe-66582d736b31",
   "metadata": {
    "tags": []
   },
   "outputs": [],
   "source": [
    "#print(td_data.head())"
   ]
  },
  {
   "cell_type": "code",
   "execution_count": 15,
   "id": "066185ce-f9ec-4eaa-8124-1e6acc448578",
   "metadata": {
    "tags": []
   },
   "outputs": [
    {
     "data": {
      "text/html": [
       "<div>\n",
       "<style scoped>\n",
       "    .dataframe tbody tr th:only-of-type {\n",
       "        vertical-align: middle;\n",
       "    }\n",
       "\n",
       "    .dataframe tbody tr th {\n",
       "        vertical-align: top;\n",
       "    }\n",
       "\n",
       "    .dataframe thead th {\n",
       "        text-align: right;\n",
       "    }\n",
       "</style>\n",
       "<table border=\"1\" class=\"dataframe\">\n",
       "  <thead>\n",
       "    <tr style=\"text-align: right;\">\n",
       "      <th></th>\n",
       "      <th>Price</th>\n",
       "      <th>Close</th>\n",
       "      <th>High</th>\n",
       "      <th>Low</th>\n",
       "      <th>Open</th>\n",
       "      <th>Volume</th>\n",
       "    </tr>\n",
       "  </thead>\n",
       "  <tbody>\n",
       "    <tr>\n",
       "      <th>0</th>\n",
       "      <td>2020-01-02</td>\n",
       "      <td>57.9467887878418</td>\n",
       "      <td>57.99414792760275</td>\n",
       "      <td>57.560057605242065</td>\n",
       "      <td>57.78104685244191</td>\n",
       "      <td>2207900</td>\n",
       "    </tr>\n",
       "    <tr>\n",
       "      <th>1</th>\n",
       "      <td>2020-01-03</td>\n",
       "      <td>57.89945602416992</td>\n",
       "      <td>57.94680915907252</td>\n",
       "      <td>57.54429546938549</td>\n",
       "      <td>57.67846669928117</td>\n",
       "      <td>3472900</td>\n",
       "    </tr>\n",
       "    <tr>\n",
       "      <th>2</th>\n",
       "      <td>2020-01-06</td>\n",
       "      <td>57.90734100341797</td>\n",
       "      <td>57.9862648895292</td>\n",
       "      <td>57.58374524240345</td>\n",
       "      <td>57.615316001149246</td>\n",
       "      <td>8359000</td>\n",
       "    </tr>\n",
       "    <tr>\n",
       "      <th>3</th>\n",
       "      <td>2020-01-07</td>\n",
       "      <td>57.84420394897461</td>\n",
       "      <td>58.17568790912178</td>\n",
       "      <td>57.788956622283415</td>\n",
       "      <td>58.017840124720365</td>\n",
       "      <td>3622600</td>\n",
       "    </tr>\n",
       "    <tr>\n",
       "      <th>4</th>\n",
       "      <td>2020-01-08</td>\n",
       "      <td>58.2940788269043</td>\n",
       "      <td>58.56242127421098</td>\n",
       "      <td>57.7968528690381</td>\n",
       "      <td>57.867882568087325</td>\n",
       "      <td>6465500</td>\n",
       "    </tr>\n",
       "    <tr>\n",
       "      <th>...</th>\n",
       "      <td>...</td>\n",
       "      <td>...</td>\n",
       "      <td>...</td>\n",
       "      <td>...</td>\n",
       "      <td>...</td>\n",
       "      <td>...</td>\n",
       "    </tr>\n",
       "    <tr>\n",
       "      <th>1250</th>\n",
       "      <td>2024-12-23</td>\n",
       "      <td>74.59191131591797</td>\n",
       "      <td>74.61163870401722</td>\n",
       "      <td>73.73362316363925</td>\n",
       "      <td>73.9901243689176</td>\n",
       "      <td>5763300</td>\n",
       "    </tr>\n",
       "    <tr>\n",
       "      <th>1251</th>\n",
       "      <td>2024-12-24</td>\n",
       "      <td>75.1937026977539</td>\n",
       "      <td>75.25289239220729</td>\n",
       "      <td>74.48339625765291</td>\n",
       "      <td>75.1937026977539</td>\n",
       "      <td>1345700</td>\n",
       "    </tr>\n",
       "    <tr>\n",
       "      <th>1252</th>\n",
       "      <td>2024-12-27</td>\n",
       "      <td>75.39100646972656</td>\n",
       "      <td>75.61791284222221</td>\n",
       "      <td>75.07531555581855</td>\n",
       "      <td>75.12464531882436</td>\n",
       "      <td>5200200</td>\n",
       "    </tr>\n",
       "    <tr>\n",
       "      <th>1253</th>\n",
       "      <td>2024-12-30</td>\n",
       "      <td>75.20356750488281</td>\n",
       "      <td>75.51925840861496</td>\n",
       "      <td>74.83854683973492</td>\n",
       "      <td>74.97666113970118</td>\n",
       "      <td>14855800</td>\n",
       "    </tr>\n",
       "    <tr>\n",
       "      <th>1254</th>\n",
       "      <td>2024-12-31</td>\n",
       "      <td>75.49952697753906</td>\n",
       "      <td>75.94347227077341</td>\n",
       "      <td>75.37128012927057</td>\n",
       "      <td>75.38114758734206</td>\n",
       "      <td>5966100</td>\n",
       "    </tr>\n",
       "  </tbody>\n",
       "</table>\n",
       "<p>1255 rows × 6 columns</p>\n",
       "</div>"
      ],
      "text/plain": [
       "           Price              Close               High                 Low  \\\n",
       "0     2020-01-02   57.9467887878418  57.99414792760275  57.560057605242065   \n",
       "1     2020-01-03  57.89945602416992  57.94680915907252   57.54429546938549   \n",
       "2     2020-01-06  57.90734100341797   57.9862648895292   57.58374524240345   \n",
       "3     2020-01-07  57.84420394897461  58.17568790912178  57.788956622283415   \n",
       "4     2020-01-08   58.2940788269043  58.56242127421098    57.7968528690381   \n",
       "...          ...                ...                ...                 ...   \n",
       "1250  2024-12-23  74.59191131591797  74.61163870401722   73.73362316363925   \n",
       "1251  2024-12-24   75.1937026977539  75.25289239220729   74.48339625765291   \n",
       "1252  2024-12-27  75.39100646972656  75.61791284222221   75.07531555581855   \n",
       "1253  2024-12-30  75.20356750488281  75.51925840861496   74.83854683973492   \n",
       "1254  2024-12-31  75.49952697753906  75.94347227077341   75.37128012927057   \n",
       "\n",
       "                    Open    Volume  \n",
       "0      57.78104685244191   2207900  \n",
       "1      57.67846669928117   3472900  \n",
       "2     57.615316001149246   8359000  \n",
       "3     58.017840124720365   3622600  \n",
       "4     57.867882568087325   6465500  \n",
       "...                  ...       ...  \n",
       "1250    73.9901243689176   5763300  \n",
       "1251    75.1937026977539   1345700  \n",
       "1252   75.12464531882436   5200200  \n",
       "1253   74.97666113970118  14855800  \n",
       "1254   75.38114758734206   5966100  \n",
       "\n",
       "[1255 rows x 6 columns]"
      ]
     },
     "execution_count": 15,
     "metadata": {},
     "output_type": "execute_result"
    }
   ],
   "source": [
    "# Drop the first 2 row\n",
    "td_data = td_data.iloc[2:].reset_index(drop=True)\n",
    "td_data"
   ]
  },
  {
   "cell_type": "code",
   "execution_count": 16,
   "id": "0a7ef337-4258-46ab-b01f-c12c3fec6563",
   "metadata": {
    "tags": []
   },
   "outputs": [
    {
     "data": {
      "text/html": [
       "<div>\n",
       "<style scoped>\n",
       "    .dataframe tbody tr th:only-of-type {\n",
       "        vertical-align: middle;\n",
       "    }\n",
       "\n",
       "    .dataframe tbody tr th {\n",
       "        vertical-align: top;\n",
       "    }\n",
       "\n",
       "    .dataframe thead th {\n",
       "        text-align: right;\n",
       "    }\n",
       "</style>\n",
       "<table border=\"1\" class=\"dataframe\">\n",
       "  <thead>\n",
       "    <tr style=\"text-align: right;\">\n",
       "      <th></th>\n",
       "      <th>Date</th>\n",
       "      <th>Price_Close</th>\n",
       "      <th>Price_High</th>\n",
       "      <th>Price_Low</th>\n",
       "      <th>Price_Open</th>\n",
       "      <th>Volume</th>\n",
       "    </tr>\n",
       "  </thead>\n",
       "  <tbody>\n",
       "    <tr>\n",
       "      <th>0</th>\n",
       "      <td>2020-01-02</td>\n",
       "      <td>57.9467887878418</td>\n",
       "      <td>57.99414792760275</td>\n",
       "      <td>57.560057605242065</td>\n",
       "      <td>57.78104685244191</td>\n",
       "      <td>2207900</td>\n",
       "    </tr>\n",
       "    <tr>\n",
       "      <th>1</th>\n",
       "      <td>2020-01-03</td>\n",
       "      <td>57.89945602416992</td>\n",
       "      <td>57.94680915907252</td>\n",
       "      <td>57.54429546938549</td>\n",
       "      <td>57.67846669928117</td>\n",
       "      <td>3472900</td>\n",
       "    </tr>\n",
       "    <tr>\n",
       "      <th>2</th>\n",
       "      <td>2020-01-06</td>\n",
       "      <td>57.90734100341797</td>\n",
       "      <td>57.9862648895292</td>\n",
       "      <td>57.58374524240345</td>\n",
       "      <td>57.615316001149246</td>\n",
       "      <td>8359000</td>\n",
       "    </tr>\n",
       "    <tr>\n",
       "      <th>3</th>\n",
       "      <td>2020-01-07</td>\n",
       "      <td>57.84420394897461</td>\n",
       "      <td>58.17568790912178</td>\n",
       "      <td>57.788956622283415</td>\n",
       "      <td>58.017840124720365</td>\n",
       "      <td>3622600</td>\n",
       "    </tr>\n",
       "    <tr>\n",
       "      <th>4</th>\n",
       "      <td>2020-01-08</td>\n",
       "      <td>58.2940788269043</td>\n",
       "      <td>58.56242127421098</td>\n",
       "      <td>57.7968528690381</td>\n",
       "      <td>57.867882568087325</td>\n",
       "      <td>6465500</td>\n",
       "    </tr>\n",
       "    <tr>\n",
       "      <th>...</th>\n",
       "      <td>...</td>\n",
       "      <td>...</td>\n",
       "      <td>...</td>\n",
       "      <td>...</td>\n",
       "      <td>...</td>\n",
       "      <td>...</td>\n",
       "    </tr>\n",
       "    <tr>\n",
       "      <th>1250</th>\n",
       "      <td>2024-12-23</td>\n",
       "      <td>74.59191131591797</td>\n",
       "      <td>74.61163870401722</td>\n",
       "      <td>73.73362316363925</td>\n",
       "      <td>73.9901243689176</td>\n",
       "      <td>5763300</td>\n",
       "    </tr>\n",
       "    <tr>\n",
       "      <th>1251</th>\n",
       "      <td>2024-12-24</td>\n",
       "      <td>75.1937026977539</td>\n",
       "      <td>75.25289239220729</td>\n",
       "      <td>74.48339625765291</td>\n",
       "      <td>75.1937026977539</td>\n",
       "      <td>1345700</td>\n",
       "    </tr>\n",
       "    <tr>\n",
       "      <th>1252</th>\n",
       "      <td>2024-12-27</td>\n",
       "      <td>75.39100646972656</td>\n",
       "      <td>75.61791284222221</td>\n",
       "      <td>75.07531555581855</td>\n",
       "      <td>75.12464531882436</td>\n",
       "      <td>5200200</td>\n",
       "    </tr>\n",
       "    <tr>\n",
       "      <th>1253</th>\n",
       "      <td>2024-12-30</td>\n",
       "      <td>75.20356750488281</td>\n",
       "      <td>75.51925840861496</td>\n",
       "      <td>74.83854683973492</td>\n",
       "      <td>74.97666113970118</td>\n",
       "      <td>14855800</td>\n",
       "    </tr>\n",
       "    <tr>\n",
       "      <th>1254</th>\n",
       "      <td>2024-12-31</td>\n",
       "      <td>75.49952697753906</td>\n",
       "      <td>75.94347227077341</td>\n",
       "      <td>75.37128012927057</td>\n",
       "      <td>75.38114758734206</td>\n",
       "      <td>5966100</td>\n",
       "    </tr>\n",
       "  </tbody>\n",
       "</table>\n",
       "<p>1255 rows × 6 columns</p>\n",
       "</div>"
      ],
      "text/plain": [
       "            Date        Price_Close         Price_High           Price_Low  \\\n",
       "0     2020-01-02   57.9467887878418  57.99414792760275  57.560057605242065   \n",
       "1     2020-01-03  57.89945602416992  57.94680915907252   57.54429546938549   \n",
       "2     2020-01-06  57.90734100341797   57.9862648895292   57.58374524240345   \n",
       "3     2020-01-07  57.84420394897461  58.17568790912178  57.788956622283415   \n",
       "4     2020-01-08   58.2940788269043  58.56242127421098    57.7968528690381   \n",
       "...          ...                ...                ...                 ...   \n",
       "1250  2024-12-23  74.59191131591797  74.61163870401722   73.73362316363925   \n",
       "1251  2024-12-24   75.1937026977539  75.25289239220729   74.48339625765291   \n",
       "1252  2024-12-27  75.39100646972656  75.61791284222221   75.07531555581855   \n",
       "1253  2024-12-30  75.20356750488281  75.51925840861496   74.83854683973492   \n",
       "1254  2024-12-31  75.49952697753906  75.94347227077341   75.37128012927057   \n",
       "\n",
       "              Price_Open    Volume  \n",
       "0      57.78104685244191   2207900  \n",
       "1      57.67846669928117   3472900  \n",
       "2     57.615316001149246   8359000  \n",
       "3     58.017840124720365   3622600  \n",
       "4     57.867882568087325   6465500  \n",
       "...                  ...       ...  \n",
       "1250    73.9901243689176   5763300  \n",
       "1251    75.1937026977539   1345700  \n",
       "1252   75.12464531882436   5200200  \n",
       "1253   74.97666113970118  14855800  \n",
       "1254   75.38114758734206   5966100  \n",
       "\n",
       "[1255 rows x 6 columns]"
      ]
     },
     "execution_count": 16,
     "metadata": {},
     "output_type": "execute_result"
    }
   ],
   "source": [
    "# Rename columns\n",
    "td_data.columns = [\"Date\", \"Price_Close\", \"Price_High\", \"Price_Low\", \"Price_Open\", \"Volume\"]\n",
    "td_data"
   ]
  },
  {
   "cell_type": "code",
   "execution_count": 17,
   "id": "8a4ab2e4-3ced-4315-a101-88492b65ad32",
   "metadata": {
    "tags": []
   },
   "outputs": [
    {
     "data": {
      "text/html": [
       "<div>\n",
       "<style scoped>\n",
       "    .dataframe tbody tr th:only-of-type {\n",
       "        vertical-align: middle;\n",
       "    }\n",
       "\n",
       "    .dataframe tbody tr th {\n",
       "        vertical-align: top;\n",
       "    }\n",
       "\n",
       "    .dataframe thead th {\n",
       "        text-align: right;\n",
       "    }\n",
       "</style>\n",
       "<table border=\"1\" class=\"dataframe\">\n",
       "  <thead>\n",
       "    <tr style=\"text-align: right;\">\n",
       "      <th></th>\n",
       "      <th>Date</th>\n",
       "      <th>Price_Close</th>\n",
       "      <th>Price_High</th>\n",
       "      <th>Price_Low</th>\n",
       "      <th>Price_Open</th>\n",
       "      <th>Volume</th>\n",
       "    </tr>\n",
       "  </thead>\n",
       "  <tbody>\n",
       "    <tr>\n",
       "      <th>0</th>\n",
       "      <td>2020-01-02</td>\n",
       "      <td>57.9467887878418</td>\n",
       "      <td>57.99414792760275</td>\n",
       "      <td>57.560057605242065</td>\n",
       "      <td>57.78104685244191</td>\n",
       "      <td>2207900</td>\n",
       "    </tr>\n",
       "    <tr>\n",
       "      <th>1</th>\n",
       "      <td>2020-01-03</td>\n",
       "      <td>57.89945602416992</td>\n",
       "      <td>57.94680915907252</td>\n",
       "      <td>57.54429546938549</td>\n",
       "      <td>57.67846669928117</td>\n",
       "      <td>3472900</td>\n",
       "    </tr>\n",
       "    <tr>\n",
       "      <th>2</th>\n",
       "      <td>2020-01-06</td>\n",
       "      <td>57.90734100341797</td>\n",
       "      <td>57.9862648895292</td>\n",
       "      <td>57.58374524240345</td>\n",
       "      <td>57.615316001149246</td>\n",
       "      <td>8359000</td>\n",
       "    </tr>\n",
       "    <tr>\n",
       "      <th>3</th>\n",
       "      <td>2020-01-07</td>\n",
       "      <td>57.84420394897461</td>\n",
       "      <td>58.17568790912178</td>\n",
       "      <td>57.788956622283415</td>\n",
       "      <td>58.017840124720365</td>\n",
       "      <td>3622600</td>\n",
       "    </tr>\n",
       "    <tr>\n",
       "      <th>4</th>\n",
       "      <td>2020-01-08</td>\n",
       "      <td>58.2940788269043</td>\n",
       "      <td>58.56242127421098</td>\n",
       "      <td>57.7968528690381</td>\n",
       "      <td>57.867882568087325</td>\n",
       "      <td>6465500</td>\n",
       "    </tr>\n",
       "    <tr>\n",
       "      <th>...</th>\n",
       "      <td>...</td>\n",
       "      <td>...</td>\n",
       "      <td>...</td>\n",
       "      <td>...</td>\n",
       "      <td>...</td>\n",
       "      <td>...</td>\n",
       "    </tr>\n",
       "    <tr>\n",
       "      <th>1250</th>\n",
       "      <td>2024-12-23</td>\n",
       "      <td>74.59191131591797</td>\n",
       "      <td>74.61163870401722</td>\n",
       "      <td>73.73362316363925</td>\n",
       "      <td>73.9901243689176</td>\n",
       "      <td>5763300</td>\n",
       "    </tr>\n",
       "    <tr>\n",
       "      <th>1251</th>\n",
       "      <td>2024-12-24</td>\n",
       "      <td>75.1937026977539</td>\n",
       "      <td>75.25289239220729</td>\n",
       "      <td>74.48339625765291</td>\n",
       "      <td>75.1937026977539</td>\n",
       "      <td>1345700</td>\n",
       "    </tr>\n",
       "    <tr>\n",
       "      <th>1252</th>\n",
       "      <td>2024-12-27</td>\n",
       "      <td>75.39100646972656</td>\n",
       "      <td>75.61791284222221</td>\n",
       "      <td>75.07531555581855</td>\n",
       "      <td>75.12464531882436</td>\n",
       "      <td>5200200</td>\n",
       "    </tr>\n",
       "    <tr>\n",
       "      <th>1253</th>\n",
       "      <td>2024-12-30</td>\n",
       "      <td>75.20356750488281</td>\n",
       "      <td>75.51925840861496</td>\n",
       "      <td>74.83854683973492</td>\n",
       "      <td>74.97666113970118</td>\n",
       "      <td>14855800</td>\n",
       "    </tr>\n",
       "    <tr>\n",
       "      <th>1254</th>\n",
       "      <td>2024-12-31</td>\n",
       "      <td>75.49952697753906</td>\n",
       "      <td>75.94347227077341</td>\n",
       "      <td>75.37128012927057</td>\n",
       "      <td>75.38114758734206</td>\n",
       "      <td>5966100</td>\n",
       "    </tr>\n",
       "  </tbody>\n",
       "</table>\n",
       "<p>1255 rows × 6 columns</p>\n",
       "</div>"
      ],
      "text/plain": [
       "           Date        Price_Close         Price_High           Price_Low  \\\n",
       "0    2020-01-02   57.9467887878418  57.99414792760275  57.560057605242065   \n",
       "1    2020-01-03  57.89945602416992  57.94680915907252   57.54429546938549   \n",
       "2    2020-01-06  57.90734100341797   57.9862648895292   57.58374524240345   \n",
       "3    2020-01-07  57.84420394897461  58.17568790912178  57.788956622283415   \n",
       "4    2020-01-08   58.2940788269043  58.56242127421098    57.7968528690381   \n",
       "...         ...                ...                ...                 ...   \n",
       "1250 2024-12-23  74.59191131591797  74.61163870401722   73.73362316363925   \n",
       "1251 2024-12-24   75.1937026977539  75.25289239220729   74.48339625765291   \n",
       "1252 2024-12-27  75.39100646972656  75.61791284222221   75.07531555581855   \n",
       "1253 2024-12-30  75.20356750488281  75.51925840861496   74.83854683973492   \n",
       "1254 2024-12-31  75.49952697753906  75.94347227077341   75.37128012927057   \n",
       "\n",
       "              Price_Open    Volume  \n",
       "0      57.78104685244191   2207900  \n",
       "1      57.67846669928117   3472900  \n",
       "2     57.615316001149246   8359000  \n",
       "3     58.017840124720365   3622600  \n",
       "4     57.867882568087325   6465500  \n",
       "...                  ...       ...  \n",
       "1250    73.9901243689176   5763300  \n",
       "1251    75.1937026977539   1345700  \n",
       "1252   75.12464531882436   5200200  \n",
       "1253   74.97666113970118  14855800  \n",
       "1254   75.38114758734206   5966100  \n",
       "\n",
       "[1255 rows x 6 columns]"
      ]
     },
     "execution_count": 17,
     "metadata": {},
     "output_type": "execute_result"
    }
   ],
   "source": [
    "# Set the \"Date\" column as the index (optional, if needed for analysis)\n",
    "td_data[\"Date\"] = pd.to_datetime(td_data[\"Date\"])  # Ensure Date is in datetime format\n",
    "td_data"
   ]
  },
  {
   "cell_type": "code",
   "execution_count": 18,
   "id": "48682bc8-0ca9-4937-9237-361fa42c8600",
   "metadata": {
    "tags": []
   },
   "outputs": [
    {
     "name": "stdout",
     "output_type": "stream",
     "text": [
      "        Date        Price_Close         Price_High           Price_Low  \\\n",
      "0 2020-01-02   57.9467887878418  57.99414792760275  57.560057605242065   \n",
      "1 2020-01-03  57.89945602416992  57.94680915907252   57.54429546938549   \n",
      "2 2020-01-06  57.90734100341797   57.9862648895292   57.58374524240345   \n",
      "3 2020-01-07  57.84420394897461  58.17568790912178  57.788956622283415   \n",
      "4 2020-01-08   58.2940788269043  58.56242127421098    57.7968528690381   \n",
      "\n",
      "           Price_Open   Volume  \n",
      "0   57.78104685244191  2207900  \n",
      "1   57.67846669928117  3472900  \n",
      "2  57.615316001149246  8359000  \n",
      "3  58.017840124720365  3622600  \n",
      "4  57.867882568087325  6465500  \n"
     ]
    }
   ],
   "source": [
    "# Save the cleaned data\n",
    "td_data.to_csv(\"TD_historical_data_cleaned.csv\")\n",
    "\n",
    "# Display the cleaned DataFrame\n",
    "print(td_data.head())"
   ]
  },
  {
   "cell_type": "code",
   "execution_count": 20,
   "id": "523c6c45-f4df-4f70-9a82-0e47cdbf12fe",
   "metadata": {
    "tags": []
   },
   "outputs": [
    {
     "name": "stdout",
     "output_type": "stream",
     "text": [
      "\n",
      "Financial Data:\n",
      "   Unnamed: 0    Market Cap   PE Ratio  Dividend Yield   Beta\n",
      "0          TD  1.441382e+11  17.449154          0.0512  0.822\n",
      "1         BMO  1.049765e+11  15.108192          0.0462  1.160\n",
      "2         RBC  2.458259e+11  15.434279          0.0323  0.842\n",
      "3        CIBC  8.540744e+10  12.449175          0.0402  1.128\n",
      "4  Scotiabank  1.005176e+11  12.582624          0.0531  0.978\n",
      "\n",
      "Missing values in financial data:\n",
      "Unnamed: 0        0\n",
      "Market Cap        0\n",
      "PE Ratio          0\n",
      "Dividend Yield    0\n",
      "Beta              0\n",
      "dtype: int64\n",
      "\n",
      "Financial Data Info:\n",
      "<class 'pandas.core.frame.DataFrame'>\n",
      "RangeIndex: 5 entries, 0 to 4\n",
      "Data columns (total 5 columns):\n",
      " #   Column          Non-Null Count  Dtype  \n",
      "---  ------          --------------  -----  \n",
      " 0   Unnamed: 0      5 non-null      object \n",
      " 1   Market Cap      5 non-null      float64\n",
      " 2   PE Ratio        5 non-null      float64\n",
      " 3   Dividend Yield  5 non-null      float64\n",
      " 4   Beta            5 non-null      float64\n",
      "dtypes: float64(4), object(1)\n",
      "memory usage: 332.0+ bytes\n",
      "None\n"
     ]
    }
   ],
   "source": [
    "# Step 1: Load the financial data CSV file\n",
    "financial_data = pd.read_csv(\"../PythonForDA/Canadian_banks/financial_data.csv\")\n",
    "\n",
    "# Step 2: Display the data\n",
    "print(\"\\nFinancial Data:\")\n",
    "print(financial_data)\n",
    "\n",
    "# Step 3: Check for missing values\n",
    "print(\"\\nMissing values in financial data:\")\n",
    "print(financial_data.isnull().sum())\n",
    "\n",
    "# Step 4: Check data types and ensure numerical fields are correct\n",
    "print(\"\\nFinancial Data Info:\")\n",
    "print(financial_data.info())\n"
   ]
  },
  {
   "cell_type": "code",
   "execution_count": null,
   "id": "bd7394f6-6a1a-42bf-a96d-a2f97a971a77",
   "metadata": {},
   "outputs": [],
   "source": []
  }
 ],
 "metadata": {
  "kernelspec": {
   "display_name": "Python 3 (ipykernel)",
   "language": "python",
   "name": "python3"
  },
  "language_info": {
   "codemirror_mode": {
    "name": "ipython",
    "version": 3
   },
   "file_extension": ".py",
   "mimetype": "text/x-python",
   "name": "python",
   "nbconvert_exporter": "python",
   "pygments_lexer": "ipython3",
   "version": "3.11.0"
  }
 },
 "nbformat": 4,
 "nbformat_minor": 5
}
